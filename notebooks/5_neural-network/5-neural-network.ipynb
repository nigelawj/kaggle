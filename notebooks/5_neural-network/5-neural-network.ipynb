{
 "cells": [
  {
   "cell_type": "markdown",
   "metadata": {
    "papermill": {
     "duration": 0.009886,
     "end_time": "2021-03-17T07:37:40.261737",
     "exception": false,
     "start_time": "2021-03-17T07:37:40.251851",
     "status": "completed"
    },
    "tags": []
   },
   "source": [
    "# Neural Network in TensorFlow\n",
    "Now we try a simple Multilayer Perceptron Network; i.e. a simple Neural Network"
   ]
  },
  {
   "cell_type": "markdown",
   "metadata": {
    "papermill": {
     "duration": 0.008494,
     "end_time": "2021-03-17T07:37:40.278953",
     "exception": false,
     "start_time": "2021-03-17T07:37:40.270459",
     "status": "completed"
    },
    "tags": []
   },
   "source": [
    "We will reconsider the data features prepared in a previous notebook: 3_XGBoost"
   ]
  },
  {
   "cell_type": "code",
   "execution_count": 1,
   "metadata": {
    "_cell_guid": "b1076dfc-b9ad-4769-8c92-a6c4dae69d19",
    "_uuid": "8f2839f25d086af736a60e9eeb907d3b93b6e0e5",
    "execution": {
     "iopub.execute_input": "2021-03-17T07:37:40.304438Z",
     "iopub.status.busy": "2021-03-17T07:37:40.303916Z",
     "iopub.status.idle": "2021-03-17T07:37:41.103984Z",
     "shell.execute_reply": "2021-03-17T07:37:41.102854Z"
    },
    "papermill": {
     "duration": 0.816793,
     "end_time": "2021-03-17T07:37:41.104207",
     "exception": false,
     "start_time": "2021-03-17T07:37:40.287414",
     "status": "completed"
    },
    "tags": []
   },
   "outputs": [],
   "source": [
    "import numpy as np\n",
    "import pandas as pd\n",
    "import os\n",
    "import matplotlib.pyplot as plt\n",
    "from pathlib import Path\n",
    "\n",
    "root_path = '../input/demand-forecasting-kernels-only/'\n",
    "train_original = pd.read_csv(Path(root_path, 'train.csv'), low_memory=False, \n",
    "                    parse_dates=['date'], index_col=['date'])\n",
    "test_original = pd.read_csv(Path(root_path, 'test.csv'), low_memory=False, \n",
    "                   parse_dates=['date'], index_col=['date'])\n",
    "sample_sub_original = pd.read_csv(Path(root_path, 'sample_submission.csv'))"
   ]
  },
  {
   "cell_type": "code",
   "execution_count": 2,
   "metadata": {
    "execution": {
     "iopub.execute_input": "2021-03-17T07:37:41.131434Z",
     "iopub.status.busy": "2021-03-17T07:37:41.130743Z",
     "iopub.status.idle": "2021-03-17T07:37:41.134649Z",
     "shell.execute_reply": "2021-03-17T07:37:41.135092Z"
    },
    "papermill": {
     "duration": 0.020383,
     "end_time": "2021-03-17T07:37:41.135263",
     "exception": false,
     "start_time": "2021-03-17T07:37:41.114880",
     "status": "completed"
    },
    "tags": []
   },
   "outputs": [],
   "source": [
    "def SMAPE(forecast, actual):\n",
    "    \"\"\"\n",
    "    Symmetric Mean Absolute Percentage Error: from https://www.kaggle.com/enolac5/time-series-arima-dnn-xgboost-comparison\n",
    "    \"\"\"\n",
    "    masked_arr = ~((forecast==0)&(actual==0))\n",
    "    diff = abs(forecast[masked_arr] - actual[masked_arr])\n",
    "    avg = (abs(forecast[masked_arr]) + abs(actual[masked_arr]))/2\n",
    "    \n",
    "    print('SMAPE Error Score: ' + str(round(sum(diff/avg)/len(forecast) * 100, 2)) + ' %')"
   ]
  },
  {
   "cell_type": "code",
   "execution_count": 3,
   "metadata": {
    "execution": {
     "iopub.execute_input": "2021-03-17T07:37:41.162983Z",
     "iopub.status.busy": "2021-03-17T07:37:41.161701Z",
     "iopub.status.idle": "2021-03-17T07:37:41.516771Z",
     "shell.execute_reply": "2021-03-17T07:37:41.516270Z"
    },
    "papermill": {
     "duration": 0.371532,
     "end_time": "2021-03-17T07:37:41.516898",
     "exception": false,
     "start_time": "2021-03-17T07:37:41.145366",
     "status": "completed"
    },
    "tags": []
   },
   "outputs": [],
   "source": [
    "train = train_original.copy()\n",
    "test = test_original.copy()\n",
    "\n",
    "train['weekday'] = train.index.dayofweek\n",
    "train['dayofyear'] = train.index.dayofyear\n",
    "train['year'] = train.index.year\n",
    "train['month'] = train.index.month\n",
    "train = train.reset_index()\n",
    "\n",
    "test['weekday'] = test.index.dayofweek\n",
    "test['dayofyear'] = test.index.dayofyear\n",
    "test['year'] = test.index.year\n",
    "test['month'] = test.index.month\n",
    "test = test.reset_index()"
   ]
  },
  {
   "cell_type": "code",
   "execution_count": 4,
   "metadata": {
    "execution": {
     "iopub.execute_input": "2021-03-17T07:37:41.543222Z",
     "iopub.status.busy": "2021-03-17T07:37:41.542462Z",
     "iopub.status.idle": "2021-03-17T07:39:00.950780Z",
     "shell.execute_reply": "2021-03-17T07:39:00.950284Z"
    },
    "papermill": {
     "duration": 79.425033,
     "end_time": "2021-03-17T07:39:00.950911",
     "exception": false,
     "start_time": "2021-03-17T07:37:41.525878",
     "status": "completed"
    },
    "tags": []
   },
   "outputs": [],
   "source": [
    "# One Hot Encode Months + drop first column to remove dummy variable trap\n",
    "temp = pd.get_dummies(train['month'], prefix='is_month', drop_first=True)\n",
    "\n",
    "for col in temp.columns:\n",
    "    train[col] = temp[col]\n",
    "    \n",
    "# Determines if day is a weekend\n",
    "# Assumption: Friday is NOT a weekend\n",
    "train['is_weekend'] = train['weekday'] // 5 # 0 for Mon-Fri (0-4), 1 for Sat (5) and Sun (6)\n",
    "\n",
    "from itertools import product\n",
    "\n",
    "avg_sales = np.zeros(shape=(10, 50)) # (num_store, num_item)\n",
    "\n",
    "for store, item in list(product(range(1, 11), range(1, 51))):\n",
    "    avg_sales[store-1, item-1] = train.query(f'store == {store} & item == {item}')['sales'].mean()\n",
    "    \n",
    "avg_sales_col = []\n",
    "\n",
    "for _, row in train.iterrows():\n",
    "    store, item = row['store'], row['item']\n",
    "    avg_sales_col.append(avg_sales[store-1, item-1])\n",
    "    \n",
    "train['avg_sales'] = avg_sales_col"
   ]
  },
  {
   "cell_type": "code",
   "execution_count": 5,
   "metadata": {
    "execution": {
     "iopub.execute_input": "2021-03-17T07:39:00.977287Z",
     "iopub.status.busy": "2021-03-17T07:39:00.976519Z",
     "iopub.status.idle": "2021-03-17T07:39:05.277183Z",
     "shell.execute_reply": "2021-03-17T07:39:05.276147Z"
    },
    "papermill": {
     "duration": 4.316807,
     "end_time": "2021-03-17T07:39:05.277365",
     "exception": false,
     "start_time": "2021-03-17T07:39:00.960558",
     "status": "completed"
    },
    "tags": []
   },
   "outputs": [],
   "source": [
    "# One Hot Encode Months + drop first column to remove dummy variable trap\n",
    "temp = pd.get_dummies(test['month'], prefix='is_month', drop_first=True)\n",
    "\n",
    "for col in temp.columns:\n",
    "    test[col] = temp[col]\n",
    "\n",
    "# add in columns manually (test data spans Jan-Mar only)\n",
    "for i in range(4, 13):\n",
    "    test[f'is_month_{i}'] = 0\n",
    "    \n",
    "# Determines if day is a weekend\n",
    "# Assumption: Friday is NOT a weekend\n",
    "test['is_weekend'] = test['weekday'] // 5 # 0 for Mon-Fri (0-4), 1 for Sat (5) and Sun (6)\n",
    "\n",
    "# Recalculate avg_sales column for test dataframe\n",
    "avg_sales_col = []\n",
    "\n",
    "for _, row in test.iterrows():\n",
    "    store, item = row['store'], row['item']\n",
    "    avg_sales_col.append(avg_sales[store-1, item-1])\n",
    "    \n",
    "test['avg_sales'] = avg_sales_col"
   ]
  },
  {
   "cell_type": "markdown",
   "metadata": {
    "papermill": {
     "duration": 0.008839,
     "end_time": "2021-03-17T07:39:05.295466",
     "exception": false,
     "start_time": "2021-03-17T07:39:05.286627",
     "status": "completed"
    },
    "tags": []
   },
   "source": [
    "### Prepare `X` and `y` dataframes"
   ]
  },
  {
   "cell_type": "code",
   "execution_count": 6,
   "metadata": {
    "execution": {
     "iopub.execute_input": "2021-03-17T07:39:05.319118Z",
     "iopub.status.busy": "2021-03-17T07:39:05.318150Z",
     "iopub.status.idle": "2021-03-17T07:39:05.374440Z",
     "shell.execute_reply": "2021-03-17T07:39:05.373921Z"
    },
    "papermill": {
     "duration": 0.070026,
     "end_time": "2021-03-17T07:39:05.374588",
     "exception": false,
     "start_time": "2021-03-17T07:39:05.304562",
     "status": "completed"
    },
    "tags": []
   },
   "outputs": [],
   "source": [
    "X = train.copy()\n",
    "X.drop(['sales','date'], axis=1, inplace=True)\n",
    "y = train['sales']"
   ]
  },
  {
   "cell_type": "code",
   "execution_count": 7,
   "metadata": {
    "execution": {
     "iopub.execute_input": "2021-03-17T07:39:05.397092Z",
     "iopub.status.busy": "2021-03-17T07:39:05.396537Z",
     "iopub.status.idle": "2021-03-17T07:39:10.179804Z",
     "shell.execute_reply": "2021-03-17T07:39:10.178711Z"
    },
    "papermill": {
     "duration": 4.795898,
     "end_time": "2021-03-17T07:39:10.179951",
     "exception": false,
     "start_time": "2021-03-17T07:39:05.384053",
     "status": "completed"
    },
    "tags": []
   },
   "outputs": [],
   "source": [
    "import tensorflow as tf\n",
    "from tensorflow.keras.models import Sequential\n",
    "from tensorflow.keras.layers import Dense, Dropout\n",
    "from tensorflow.keras.optimizers import Adam"
   ]
  },
  {
   "cell_type": "markdown",
   "metadata": {
    "papermill": {
     "duration": 0.011076,
     "end_time": "2021-03-17T07:39:10.201807",
     "exception": false,
     "start_time": "2021-03-17T07:39:10.190731",
     "status": "completed"
    },
    "tags": []
   },
   "source": [
    "### Create the model\n",
    "We create a simple NN"
   ]
  },
  {
   "cell_type": "code",
   "execution_count": 8,
   "metadata": {
    "execution": {
     "iopub.execute_input": "2021-03-17T07:39:10.226198Z",
     "iopub.status.busy": "2021-03-17T07:39:10.225517Z",
     "iopub.status.idle": "2021-03-17T07:39:13.128069Z",
     "shell.execute_reply": "2021-03-17T07:39:13.127609Z"
    },
    "papermill": {
     "duration": 2.916471,
     "end_time": "2021-03-17T07:39:13.128196",
     "exception": false,
     "start_time": "2021-03-17T07:39:10.211725",
     "status": "completed"
    },
    "tags": []
   },
   "outputs": [],
   "source": [
    "tf.keras.backend.clear_session()\n",
    "tf.random.set_seed(42)\n",
    "\n",
    "model = Sequential([\n",
    "    Dense(20, activation=\"relu\"),\n",
    "    Dense(10, activation=\"relu\"),\n",
    "    Dense(1),\n",
    "])\n",
    "\n",
    "model.compile(loss='mse', optimizer=Adam())"
   ]
  },
  {
   "cell_type": "code",
   "execution_count": 9,
   "metadata": {
    "execution": {
     "iopub.execute_input": "2021-03-17T07:39:13.151263Z",
     "iopub.status.busy": "2021-03-17T07:39:13.150566Z",
     "iopub.status.idle": "2021-03-17T07:39:13.155864Z",
     "shell.execute_reply": "2021-03-17T07:39:13.155444Z"
    },
    "papermill": {
     "duration": 0.018175,
     "end_time": "2021-03-17T07:39:13.155968",
     "exception": false,
     "start_time": "2021-03-17T07:39:13.137793",
     "status": "completed"
    },
    "tags": []
   },
   "outputs": [
    {
     "name": "stdout",
     "output_type": "stream",
     "text": [
      "X: (913000, 19)\n",
      "y: (913000,)\n"
     ]
    }
   ],
   "source": [
    "print(f\"X: {X.shape}\")\n",
    "print(f\"y: {y.shape}\")"
   ]
  },
  {
   "cell_type": "code",
   "execution_count": 10,
   "metadata": {
    "execution": {
     "iopub.execute_input": "2021-03-17T07:39:13.180885Z",
     "iopub.status.busy": "2021-03-17T07:39:13.180213Z",
     "iopub.status.idle": "2021-03-17T08:21:11.888265Z",
     "shell.execute_reply": "2021-03-17T08:21:11.888728Z"
    },
    "papermill": {
     "duration": 2518.723025,
     "end_time": "2021-03-17T08:21:11.888897",
     "exception": false,
     "start_time": "2021-03-17T07:39:13.165872",
     "status": "completed"
    },
    "tags": []
   },
   "outputs": [
    {
     "name": "stdout",
     "output_type": "stream",
     "text": [
      "Epoch 1/50\n",
      "28532/28532 [==============================] - 50s 2ms/step - loss: 4043.6568\n",
      "Epoch 2/50\n",
      "28532/28532 [==============================] - 49s 2ms/step - loss: 114.7228\n",
      "Epoch 3/50\n",
      "28532/28532 [==============================] - 49s 2ms/step - loss: 105.5480\n",
      "Epoch 4/50\n",
      "28532/28532 [==============================] - 50s 2ms/step - loss: 100.4505\n",
      "Epoch 5/50\n",
      "28532/28532 [==============================] - 49s 2ms/step - loss: 97.2230\n",
      "Epoch 6/50\n",
      "28532/28532 [==============================] - 50s 2ms/step - loss: 95.8223\n",
      "Epoch 7/50\n",
      "28532/28532 [==============================] - 49s 2ms/step - loss: 95.4780\n",
      "Epoch 8/50\n",
      "28532/28532 [==============================] - 52s 2ms/step - loss: 94.8411\n",
      "Epoch 9/50\n",
      "28532/28532 [==============================] - 49s 2ms/step - loss: 94.7525\n",
      "Epoch 10/50\n",
      "28532/28532 [==============================] - 52s 2ms/step - loss: 94.1787\n",
      "Epoch 11/50\n",
      "28532/28532 [==============================] - 50s 2ms/step - loss: 94.1361\n",
      "Epoch 12/50\n",
      "28532/28532 [==============================] - 50s 2ms/step - loss: 93.8518\n",
      "Epoch 13/50\n",
      "28532/28532 [==============================] - 53s 2ms/step - loss: 93.8790\n",
      "Epoch 14/50\n",
      "28532/28532 [==============================] - 47s 2ms/step - loss: 93.6440\n",
      "Epoch 15/50\n",
      "28532/28532 [==============================] - 51s 2ms/step - loss: 93.8366\n",
      "Epoch 16/50\n",
      "28532/28532 [==============================] - 50s 2ms/step - loss: 93.5005\n",
      "Epoch 17/50\n",
      "28532/28532 [==============================] - 50s 2ms/step - loss: 93.5877\n",
      "Epoch 18/50\n",
      "28532/28532 [==============================] - 48s 2ms/step - loss: 93.5510\n",
      "Epoch 19/50\n",
      "28532/28532 [==============================] - 51s 2ms/step - loss: 93.2455\n",
      "Epoch 20/50\n",
      "28532/28532 [==============================] - 53s 2ms/step - loss: 93.2360\n",
      "Epoch 21/50\n",
      "28532/28532 [==============================] - 49s 2ms/step - loss: 93.4103\n",
      "Epoch 22/50\n",
      "28532/28532 [==============================] - 53s 2ms/step - loss: 93.1801\n",
      "Epoch 23/50\n",
      "28532/28532 [==============================] - 53s 2ms/step - loss: 92.8476\n",
      "Epoch 24/50\n",
      "28532/28532 [==============================] - 51s 2ms/step - loss: 93.1733\n",
      "Epoch 25/50\n",
      "28532/28532 [==============================] - 51s 2ms/step - loss: 93.0487\n",
      "Epoch 26/50\n",
      "28532/28532 [==============================] - 53s 2ms/step - loss: 92.9770\n",
      "Epoch 27/50\n",
      "28532/28532 [==============================] - 48s 2ms/step - loss: 92.8357\n",
      "Epoch 28/50\n",
      "28532/28532 [==============================] - 48s 2ms/step - loss: 92.4489\n",
      "Epoch 29/50\n",
      "28532/28532 [==============================] - 54s 2ms/step - loss: 92.5050\n",
      "Epoch 30/50\n",
      "28532/28532 [==============================] - 48s 2ms/step - loss: 92.8984\n",
      "Epoch 31/50\n",
      "28532/28532 [==============================] - 54s 2ms/step - loss: 92.7809\n",
      "Epoch 32/50\n",
      "28532/28532 [==============================] - 48s 2ms/step - loss: 92.7239\n",
      "Epoch 33/50\n",
      "28532/28532 [==============================] - 48s 2ms/step - loss: 92.3726\n",
      "Epoch 34/50\n",
      "28532/28532 [==============================] - 55s 2ms/step - loss: 92.6220\n",
      "Epoch 35/50\n",
      "28532/28532 [==============================] - 48s 2ms/step - loss: 92.5038\n",
      "Epoch 36/50\n",
      "28532/28532 [==============================] - 47s 2ms/step - loss: 92.3522\n",
      "Epoch 37/50\n",
      "28532/28532 [==============================] - 55s 2ms/step - loss: 92.5131\n",
      "Epoch 38/50\n",
      "28532/28532 [==============================] - 48s 2ms/step - loss: 92.1828\n",
      "Epoch 39/50\n",
      "28532/28532 [==============================] - 47s 2ms/step - loss: 92.4707\n",
      "Epoch 40/50\n",
      "28532/28532 [==============================] - 56s 2ms/step - loss: 92.3016\n",
      "Epoch 41/50\n",
      "28532/28532 [==============================] - 47s 2ms/step - loss: 92.0565\n",
      "Epoch 42/50\n",
      "28532/28532 [==============================] - 51s 2ms/step - loss: 92.4021\n",
      "Epoch 43/50\n",
      "28532/28532 [==============================] - 53s 2ms/step - loss: 92.4092\n",
      "Epoch 44/50\n",
      "28532/28532 [==============================] - 48s 2ms/step - loss: 92.1705\n",
      "Epoch 45/50\n",
      "28532/28532 [==============================] - 54s 2ms/step - loss: 92.3422\n",
      "Epoch 46/50\n",
      "28532/28532 [==============================] - 50s 2ms/step - loss: 92.4167\n",
      "Epoch 47/50\n",
      "28532/28532 [==============================] - 47s 2ms/step - loss: 92.4540\n",
      "Epoch 48/50\n",
      "28532/28532 [==============================] - 57s 2ms/step - loss: 92.1364\n",
      "Epoch 49/50\n",
      "28532/28532 [==============================] - 49s 2ms/step - loss: 91.9657\n",
      "Epoch 50/50\n",
      "28532/28532 [==============================] - 48s 2ms/step - loss: 91.9259\n"
     ]
    },
    {
     "data": {
      "text/plain": [
       "<tensorflow.python.keras.callbacks.History at 0x7fcfe80ae510>"
      ]
     },
     "execution_count": 10,
     "metadata": {},
     "output_type": "execute_result"
    }
   ],
   "source": [
    "epochs = 50\n",
    "batch_size = 256\n",
    "\n",
    "model.fit(X, y, epochs=epochs, verbose=1)"
   ]
  },
  {
   "cell_type": "code",
   "execution_count": 11,
   "metadata": {
    "execution": {
     "iopub.execute_input": "2021-03-17T08:21:38.865133Z",
     "iopub.status.busy": "2021-03-17T08:21:38.862781Z",
     "iopub.status.idle": "2021-03-17T08:21:38.867682Z",
     "shell.execute_reply": "2021-03-17T08:21:38.867222Z"
    },
    "papermill": {
     "duration": 13.131196,
     "end_time": "2021-03-17T08:21:38.867796",
     "exception": false,
     "start_time": "2021-03-17T08:21:25.736600",
     "status": "completed"
    },
    "tags": []
   },
   "outputs": [
    {
     "name": "stdout",
     "output_type": "stream",
     "text": [
      "Model: \"sequential\"\n",
      "_________________________________________________________________\n",
      "Layer (type)                 Output Shape              Param #   \n",
      "=================================================================\n",
      "dense (Dense)                (None, 20)                400       \n",
      "_________________________________________________________________\n",
      "dense_1 (Dense)              (None, 10)                210       \n",
      "_________________________________________________________________\n",
      "dense_2 (Dense)              (None, 1)                 11        \n",
      "=================================================================\n",
      "Total params: 621\n",
      "Trainable params: 621\n",
      "Non-trainable params: 0\n",
      "_________________________________________________________________\n"
     ]
    }
   ],
   "source": [
    "model.summary()"
   ]
  },
  {
   "cell_type": "code",
   "execution_count": 12,
   "metadata": {
    "execution": {
     "iopub.execute_input": "2021-03-17T08:22:05.539925Z",
     "iopub.status.busy": "2021-03-17T08:22:05.539118Z",
     "iopub.status.idle": "2021-03-17T08:22:06.462940Z",
     "shell.execute_reply": "2021-03-17T08:22:06.463677Z"
    },
    "papermill": {
     "duration": 14.554708,
     "end_time": "2021-03-17T08:22:06.463922",
     "exception": false,
     "start_time": "2021-03-17T08:21:51.909214",
     "status": "completed"
    },
    "tags": []
   },
   "outputs": [
    {
     "data": {
      "text/html": [
       "<div>\n",
       "<style scoped>\n",
       "    .dataframe tbody tr th:only-of-type {\n",
       "        vertical-align: middle;\n",
       "    }\n",
       "\n",
       "    .dataframe tbody tr th {\n",
       "        vertical-align: top;\n",
       "    }\n",
       "\n",
       "    .dataframe thead th {\n",
       "        text-align: right;\n",
       "    }\n",
       "</style>\n",
       "<table border=\"1\" class=\"dataframe\">\n",
       "  <thead>\n",
       "    <tr style=\"text-align: right;\">\n",
       "      <th></th>\n",
       "      <th>id</th>\n",
       "      <th>sales</th>\n",
       "    </tr>\n",
       "  </thead>\n",
       "  <tbody>\n",
       "    <tr>\n",
       "      <th>0</th>\n",
       "      <td>0</td>\n",
       "      <td>9</td>\n",
       "    </tr>\n",
       "    <tr>\n",
       "      <th>1</th>\n",
       "      <td>1</td>\n",
       "      <td>11</td>\n",
       "    </tr>\n",
       "    <tr>\n",
       "      <th>2</th>\n",
       "      <td>2</td>\n",
       "      <td>12</td>\n",
       "    </tr>\n",
       "    <tr>\n",
       "      <th>3</th>\n",
       "      <td>3</td>\n",
       "      <td>13</td>\n",
       "    </tr>\n",
       "    <tr>\n",
       "      <th>4</th>\n",
       "      <td>4</td>\n",
       "      <td>14</td>\n",
       "    </tr>\n",
       "  </tbody>\n",
       "</table>\n",
       "</div>"
      ],
      "text/plain": [
       "   id  sales\n",
       "0   0      9\n",
       "1   1     11\n",
       "2   2     12\n",
       "3   3     13\n",
       "4   4     14"
      ]
     },
     "execution_count": 12,
     "metadata": {},
     "output_type": "execute_result"
    }
   ],
   "source": [
    "X_test = test.copy()\n",
    "X_test.drop(['id', 'date'], axis=1, inplace=True)\n",
    "\n",
    "test_preds = model.predict(X_test)\n",
    "\n",
    "sample_sub = sample_sub_original.copy()\n",
    "sample_sub['sales'] = test_preds\n",
    "sample_sub['sales'] = np.round(sample_sub['sales']).astype(int)\n",
    "sample_sub.head()"
   ]
  },
  {
   "cell_type": "code",
   "execution_count": 13,
   "metadata": {
    "execution": {
     "iopub.execute_input": "2021-03-17T08:22:33.595123Z",
     "iopub.status.busy": "2021-03-17T08:22:33.594277Z",
     "iopub.status.idle": "2021-03-17T08:22:33.822073Z",
     "shell.execute_reply": "2021-03-17T08:22:33.821612Z"
    },
    "papermill": {
     "duration": 13.940908,
     "end_time": "2021-03-17T08:22:33.822202",
     "exception": false,
     "start_time": "2021-03-17T08:22:19.881294",
     "status": "completed"
    },
    "tags": []
   },
   "outputs": [],
   "source": [
    "sample_sub.to_csv('./submission.csv', index=False) # Public Score of 19.92"
   ]
  }
 ],
 "metadata": {
  "kernelspec": {
   "display_name": "Python 3",
   "language": "python",
   "name": "python3"
  },
  "language_info": {
   "codemirror_mode": {
    "name": "ipython",
    "version": 3
   },
   "file_extension": ".py",
   "mimetype": "text/x-python",
   "name": "python",
   "nbconvert_exporter": "python",
   "pygments_lexer": "ipython3",
   "version": "3.7.9"
  },
  "papermill": {
   "default_parameters": {},
   "duration": 2713.799834,
   "end_time": "2021-03-17T08:22:49.251731",
   "environment_variables": {},
   "exception": null,
   "input_path": "__notebook__.ipynb",
   "output_path": "__notebook__.ipynb",
   "parameters": {},
   "start_time": "2021-03-17T07:37:35.451897",
   "version": "2.2.2"
  }
 },
 "nbformat": 4,
 "nbformat_minor": 4
}
