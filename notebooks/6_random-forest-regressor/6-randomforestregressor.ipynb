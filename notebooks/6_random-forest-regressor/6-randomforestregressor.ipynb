{
 "cells": [
  {
   "cell_type": "markdown",
   "metadata": {
    "papermill": {
     "duration": 0.016041,
     "end_time": "2021-03-17T07:38:27.120358",
     "exception": false,
     "start_time": "2021-03-17T07:38:27.104317",
     "status": "completed"
    },
    "tags": []
   },
   "source": [
    "# Random Forest Regressor\n",
    "We focus on Hyperparameter Tuning on the model in this notebook. \n",
    "- EDA has been done in the previous notebooks, particularly in notebooks `1_SARIMA` and `2_custom_predictor`\n",
    "- We use the `X` and `y` dataframe from previous notebooks, since they have added features we can use; we will simply re-run the previous code to recreate the dataframes"
   ]
  },
  {
   "cell_type": "code",
   "execution_count": 1,
   "metadata": {
    "_cell_guid": "b1076dfc-b9ad-4769-8c92-a6c4dae69d19",
    "_uuid": "8f2839f25d086af736a60e9eeb907d3b93b6e0e5",
    "execution": {
     "iopub.execute_input": "2021-03-17T07:38:27.158007Z",
     "iopub.status.busy": "2021-03-17T07:38:27.157191Z",
     "iopub.status.idle": "2021-03-17T07:38:28.089043Z",
     "shell.execute_reply": "2021-03-17T07:38:28.088370Z"
    },
    "papermill": {
     "duration": 0.954137,
     "end_time": "2021-03-17T07:38:28.089248",
     "exception": false,
     "start_time": "2021-03-17T07:38:27.135111",
     "status": "completed"
    },
    "tags": []
   },
   "outputs": [],
   "source": [
    "import numpy as np\n",
    "import pandas as pd\n",
    "import os\n",
    "import matplotlib.pyplot as plt\n",
    "from pathlib import Path\n",
    "\n",
    "root_path = '../input/demand-forecasting-kernels-only/'\n",
    "train_original = pd.read_csv(Path(root_path, 'train.csv'), low_memory=False, \n",
    "                    parse_dates=['date'], index_col=['date'])\n",
    "test_original = pd.read_csv(Path(root_path, 'test.csv'), low_memory=False, \n",
    "                   parse_dates=['date'], index_col=['date'])\n",
    "sample_sub_original = pd.read_csv(Path(root_path, 'sample_submission.csv'))"
   ]
  },
  {
   "cell_type": "code",
   "execution_count": 2,
   "metadata": {
    "execution": {
     "iopub.execute_input": "2021-03-17T07:38:28.126326Z",
     "iopub.status.busy": "2021-03-17T07:38:28.125482Z",
     "iopub.status.idle": "2021-03-17T07:38:28.128338Z",
     "shell.execute_reply": "2021-03-17T07:38:28.127796Z"
    },
    "papermill": {
     "duration": 0.024134,
     "end_time": "2021-03-17T07:38:28.128477",
     "exception": false,
     "start_time": "2021-03-17T07:38:28.104343",
     "status": "completed"
    },
    "tags": []
   },
   "outputs": [],
   "source": [
    "def SMAPE(forecast, actual):\n",
    "    \"\"\"\n",
    "    Symmetric Mean Absolute Percentage Error: from https://www.kaggle.com/enolac5/time-series-arima-dnn-xgboost-comparison\n",
    "    \"\"\"\n",
    "    masked_arr = ~((forecast==0)&(actual==0))\n",
    "    diff = abs(forecast[masked_arr] - actual[masked_arr])\n",
    "    avg = (abs(forecast[masked_arr]) + abs(actual[masked_arr]))/2\n",
    "    \n",
    "    print('SMAPE Error Score: ' + str(round(sum(diff/avg)/len(forecast) * 100, 2)) + ' %')"
   ]
  },
  {
   "cell_type": "code",
   "execution_count": 3,
   "metadata": {
    "execution": {
     "iopub.execute_input": "2021-03-17T07:38:28.164088Z",
     "iopub.status.busy": "2021-03-17T07:38:28.163460Z",
     "iopub.status.idle": "2021-03-17T07:38:28.552644Z",
     "shell.execute_reply": "2021-03-17T07:38:28.552057Z"
    },
    "papermill": {
     "duration": 0.40957,
     "end_time": "2021-03-17T07:38:28.552792",
     "exception": false,
     "start_time": "2021-03-17T07:38:28.143222",
     "status": "completed"
    },
    "tags": []
   },
   "outputs": [],
   "source": [
    "train = train_original.copy()\n",
    "test = test_original.copy()\n",
    "\n",
    "train['weekday'] = train.index.dayofweek\n",
    "train['dayofyear'] = train.index.dayofyear\n",
    "train['year'] = train.index.year\n",
    "train['month'] = train.index.month\n",
    "# train = train.reset_index()\n",
    "\n",
    "test['weekday'] = test.index.dayofweek\n",
    "test['dayofyear'] = test.index.dayofyear\n",
    "test['year'] = test.index.year\n",
    "test['month'] = test.index.month\n",
    "# test = test.reset_index()"
   ]
  },
  {
   "cell_type": "code",
   "execution_count": 4,
   "metadata": {
    "execution": {
     "iopub.execute_input": "2021-03-17T07:38:28.593526Z",
     "iopub.status.busy": "2021-03-17T07:38:28.592861Z",
     "iopub.status.idle": "2021-03-17T07:39:50.236329Z",
     "shell.execute_reply": "2021-03-17T07:39:50.236903Z"
    },
    "papermill": {
     "duration": 81.669243,
     "end_time": "2021-03-17T07:39:50.237099",
     "exception": false,
     "start_time": "2021-03-17T07:38:28.567856",
     "status": "completed"
    },
    "tags": []
   },
   "outputs": [],
   "source": [
    "# One Hot Encode Months + drop first column to remove dummy variable trap\n",
    "temp = pd.get_dummies(train['month'], prefix='is_month', drop_first=True)\n",
    "\n",
    "for col in temp.columns:\n",
    "    train[col] = temp[col]\n",
    "    \n",
    "# Determines if day is a weekend\n",
    "# Assumption: Friday is NOT a weekend\n",
    "train['is_weekend'] = train['weekday'] // 5 # 0 for Mon-Fri (0-4), 1 for Sat (5) and Sun (6)\n",
    "\n",
    "from itertools import product\n",
    "\n",
    "avg_sales = np.zeros(shape=(10, 50)) # (num_store, num_item)\n",
    "\n",
    "for store, item in list(product(range(1, 11), range(1, 51))):\n",
    "    avg_sales[store-1, item-1] = train.query(f'store == {store} & item == {item}')['sales'].mean()\n",
    "    \n",
    "avg_sales_col = []\n",
    "\n",
    "for _, row in train.iterrows():\n",
    "    store, item = row['store'], row['item']\n",
    "    avg_sales_col.append(avg_sales[store-1, item-1])\n",
    "    \n",
    "train['avg_sales'] = avg_sales_col"
   ]
  },
  {
   "cell_type": "code",
   "execution_count": 5,
   "metadata": {
    "execution": {
     "iopub.execute_input": "2021-03-17T07:39:50.270917Z",
     "iopub.status.busy": "2021-03-17T07:39:50.270256Z",
     "iopub.status.idle": "2021-03-17T07:39:54.162726Z",
     "shell.execute_reply": "2021-03-17T07:39:54.163300Z"
    },
    "papermill": {
     "duration": 3.910871,
     "end_time": "2021-03-17T07:39:54.163492",
     "exception": false,
     "start_time": "2021-03-17T07:39:50.252621",
     "status": "completed"
    },
    "tags": []
   },
   "outputs": [],
   "source": [
    "# One Hot Encode Months + drop first column to remove dummy variable trap\n",
    "temp = pd.get_dummies(test['month'], prefix='is_month', drop_first=True)\n",
    "\n",
    "for col in temp.columns:\n",
    "    test[col] = temp[col]\n",
    "    \n",
    "# add in columns manually (test data spans Jan-Mar only)\n",
    "for i in range(4, 13):\n",
    "    test[f'is_month_{i}'] = 0\n",
    "    \n",
    "# Determines if day is a weekend\n",
    "# Assumption: Friday is NOT a weekend\n",
    "test['is_weekend'] = test['weekday'] // 5 # 0 for Mon-Fri (0-4), 1 for Sat (5) and Sun (6)\n",
    "\n",
    "# Recalculate avg_sales column for test dataframe\n",
    "avg_sales_col = []\n",
    "\n",
    "for _, row in test.iterrows():\n",
    "    store, item = row['store'], row['item']\n",
    "    avg_sales_col.append(avg_sales[store-1, item-1])\n",
    "    \n",
    "test['avg_sales'] = avg_sales_col"
   ]
  },
  {
   "cell_type": "code",
   "execution_count": 6,
   "metadata": {
    "execution": {
     "iopub.execute_input": "2021-03-17T07:39:54.197175Z",
     "iopub.status.busy": "2021-03-17T07:39:54.196565Z",
     "iopub.status.idle": "2021-03-17T07:39:55.639204Z",
     "shell.execute_reply": "2021-03-17T07:39:55.638474Z"
    },
    "papermill": {
     "duration": 1.46076,
     "end_time": "2021-03-17T07:39:55.639390",
     "exception": false,
     "start_time": "2021-03-17T07:39:54.178630",
     "status": "completed"
    },
    "tags": []
   },
   "outputs": [],
   "source": [
    "from sklearn.ensemble import RandomForestRegressor"
   ]
  },
  {
   "cell_type": "code",
   "execution_count": 7,
   "metadata": {
    "execution": {
     "iopub.execute_input": "2021-03-17T07:39:55.679436Z",
     "iopub.status.busy": "2021-03-17T07:39:55.678023Z",
     "iopub.status.idle": "2021-03-17T07:39:55.742917Z",
     "shell.execute_reply": "2021-03-17T07:39:55.743490Z"
    },
    "papermill": {
     "duration": 0.0866,
     "end_time": "2021-03-17T07:39:55.743686",
     "exception": false,
     "start_time": "2021-03-17T07:39:55.657086",
     "status": "completed"
    },
    "tags": []
   },
   "outputs": [],
   "source": [
    "X = train.copy()\n",
    "X.drop(['sales'], axis=1, inplace=True)\n",
    "y = train['sales']"
   ]
  },
  {
   "cell_type": "code",
   "execution_count": 8,
   "metadata": {
    "execution": {
     "iopub.execute_input": "2021-03-17T07:39:55.778187Z",
     "iopub.status.busy": "2021-03-17T07:39:55.777561Z",
     "iopub.status.idle": "2021-03-17T07:39:55.781268Z",
     "shell.execute_reply": "2021-03-17T07:39:55.781797Z"
    },
    "papermill": {
     "duration": 0.022583,
     "end_time": "2021-03-17T07:39:55.781974",
     "exception": false,
     "start_time": "2021-03-17T07:39:55.759391",
     "status": "completed"
    },
    "tags": []
   },
   "outputs": [],
   "source": [
    "rf = RandomForestRegressor(n_estimators=50, min_samples_leaf=7, random_state=42)"
   ]
  },
  {
   "cell_type": "code",
   "execution_count": 9,
   "metadata": {
    "execution": {
     "iopub.execute_input": "2021-03-17T07:39:55.816800Z",
     "iopub.status.busy": "2021-03-17T07:39:55.816077Z",
     "iopub.status.idle": "2021-03-17T07:42:15.147944Z",
     "shell.execute_reply": "2021-03-17T07:42:15.148455Z"
    },
    "papermill": {
     "duration": 139.350819,
     "end_time": "2021-03-17T07:42:15.148640",
     "exception": false,
     "start_time": "2021-03-17T07:39:55.797821",
     "status": "completed"
    },
    "tags": []
   },
   "outputs": [
    {
     "data": {
      "text/plain": [
       "RandomForestRegressor(min_samples_leaf=7, n_estimators=50, random_state=42)"
      ]
     },
     "execution_count": 9,
     "metadata": {},
     "output_type": "execute_result"
    }
   ],
   "source": [
    "rf.fit(X, y)"
   ]
  },
  {
   "cell_type": "code",
   "execution_count": 10,
   "metadata": {
    "execution": {
     "iopub.execute_input": "2021-03-17T07:42:15.188991Z",
     "iopub.status.busy": "2021-03-17T07:42:15.188253Z",
     "iopub.status.idle": "2021-03-17T07:42:15.501834Z",
     "shell.execute_reply": "2021-03-17T07:42:15.500724Z"
    },
    "papermill": {
     "duration": 0.337205,
     "end_time": "2021-03-17T07:42:15.501997",
     "exception": false,
     "start_time": "2021-03-17T07:42:15.164792",
     "status": "completed"
    },
    "tags": []
   },
   "outputs": [
    {
     "data": {
      "text/html": [
       "<div>\n",
       "<style scoped>\n",
       "    .dataframe tbody tr th:only-of-type {\n",
       "        vertical-align: middle;\n",
       "    }\n",
       "\n",
       "    .dataframe tbody tr th {\n",
       "        vertical-align: top;\n",
       "    }\n",
       "\n",
       "    .dataframe thead th {\n",
       "        text-align: right;\n",
       "    }\n",
       "</style>\n",
       "<table border=\"1\" class=\"dataframe\">\n",
       "  <thead>\n",
       "    <tr style=\"text-align: right;\">\n",
       "      <th></th>\n",
       "      <th>id</th>\n",
       "      <th>sales</th>\n",
       "    </tr>\n",
       "  </thead>\n",
       "  <tbody>\n",
       "    <tr>\n",
       "      <th>0</th>\n",
       "      <td>0</td>\n",
       "      <td>14</td>\n",
       "    </tr>\n",
       "    <tr>\n",
       "      <th>1</th>\n",
       "      <td>1</td>\n",
       "      <td>13</td>\n",
       "    </tr>\n",
       "    <tr>\n",
       "      <th>2</th>\n",
       "      <td>2</td>\n",
       "      <td>13</td>\n",
       "    </tr>\n",
       "    <tr>\n",
       "      <th>3</th>\n",
       "      <td>3</td>\n",
       "      <td>14</td>\n",
       "    </tr>\n",
       "    <tr>\n",
       "      <th>4</th>\n",
       "      <td>4</td>\n",
       "      <td>16</td>\n",
       "    </tr>\n",
       "  </tbody>\n",
       "</table>\n",
       "</div>"
      ],
      "text/plain": [
       "   id  sales\n",
       "0   0     14\n",
       "1   1     13\n",
       "2   2     13\n",
       "3   3     14\n",
       "4   4     16"
      ]
     },
     "execution_count": 10,
     "metadata": {},
     "output_type": "execute_result"
    }
   ],
   "source": [
    "X_test = test.copy()\n",
    "X_test.drop(['id'], axis=1, inplace=True)\n",
    "\n",
    "test_preds = rf.predict(X_test)\n",
    "\n",
    "sample_sub = sample_sub_original.copy()\n",
    "sample_sub['sales'] = test_preds\n",
    "sample_sub['sales'] = np.round(sample_sub['sales']).astype(int)\n",
    "sample_sub.head()"
   ]
  },
  {
   "cell_type": "code",
   "execution_count": 11,
   "metadata": {
    "execution": {
     "iopub.execute_input": "2021-03-17T07:42:15.542116Z",
     "iopub.status.busy": "2021-03-17T07:42:15.541214Z",
     "iopub.status.idle": "2021-03-17T07:42:15.632156Z",
     "shell.execute_reply": "2021-03-17T07:42:15.631496Z"
    },
    "papermill": {
     "duration": 0.112469,
     "end_time": "2021-03-17T07:42:15.632350",
     "exception": false,
     "start_time": "2021-03-17T07:42:15.519881",
     "status": "completed"
    },
    "tags": []
   },
   "outputs": [],
   "source": [
    "sample_sub.to_csv('./submission.csv', index=False) # Public Score of 14.61!"
   ]
  },
  {
   "cell_type": "markdown",
   "metadata": {
    "papermill": {
     "duration": 0.017065,
     "end_time": "2021-03-17T07:42:15.669495",
     "exception": false,
     "start_time": "2021-03-17T07:42:15.652430",
     "status": "completed"
    },
    "tags": []
   },
   "source": [
    "### Hyperparameter Tuning\n",
    "Quite an extensive list of parameters from the [documentation](https://scikit-learn.org/stable/modules/generated/sklearn.ensemble.RandomForestRegressor.html) of the RandomForestRegressor from the scikit-learn package. \n",
    "\n",
    "Let us try a [RandomSearchCV](https://scikit-learn.org/stable/modules/generated/sklearn.model_selection.RandomizedSearchCV.html) to narrow our search space. Not all parameter settings will be tried out.\n",
    "- This section will be commented out after completion to reduce runtime on creating `submission.csv`"
   ]
  },
  {
   "cell_type": "code",
   "execution_count": 12,
   "metadata": {
    "execution": {
     "iopub.execute_input": "2021-03-17T07:42:15.710044Z",
     "iopub.status.busy": "2021-03-17T07:42:15.709187Z",
     "iopub.status.idle": "2021-03-17T07:42:15.712487Z",
     "shell.execute_reply": "2021-03-17T07:42:15.712958Z"
    },
    "papermill": {
     "duration": 0.026616,
     "end_time": "2021-03-17T07:42:15.713115",
     "exception": false,
     "start_time": "2021-03-17T07:42:15.686499",
     "status": "completed"
    },
    "tags": []
   },
   "outputs": [
    {
     "data": {
      "text/plain": [
       "{'bootstrap': True,\n",
       " 'ccp_alpha': 0.0,\n",
       " 'criterion': 'mse',\n",
       " 'max_depth': None,\n",
       " 'max_features': 'auto',\n",
       " 'max_leaf_nodes': None,\n",
       " 'max_samples': None,\n",
       " 'min_impurity_decrease': 0.0,\n",
       " 'min_impurity_split': None,\n",
       " 'min_samples_leaf': 7,\n",
       " 'min_samples_split': 2,\n",
       " 'min_weight_fraction_leaf': 0.0,\n",
       " 'n_estimators': 50,\n",
       " 'n_jobs': None,\n",
       " 'oob_score': False,\n",
       " 'random_state': 42,\n",
       " 'verbose': 0,\n",
       " 'warm_start': False}"
      ]
     },
     "execution_count": 12,
     "metadata": {},
     "output_type": "execute_result"
    }
   ],
   "source": [
    "rf.get_params()"
   ]
  },
  {
   "cell_type": "code",
   "execution_count": 13,
   "metadata": {
    "execution": {
     "iopub.execute_input": "2021-03-17T07:42:15.751960Z",
     "iopub.status.busy": "2021-03-17T07:42:15.751162Z",
     "iopub.status.idle": "2021-03-17T07:42:15.754874Z",
     "shell.execute_reply": "2021-03-17T07:42:15.755488Z"
    },
    "papermill": {
     "duration": 0.024921,
     "end_time": "2021-03-17T07:42:15.755668",
     "exception": false,
     "start_time": "2021-03-17T07:42:15.730747",
     "status": "completed"
    },
    "tags": []
   },
   "outputs": [],
   "source": [
    "# from sklearn.model_selection import RandomizedSearchCV\n",
    "\n",
    "# # Number of trees in random forest\n",
    "# n_estimators = np.arange(50, 300, step=50).tolist()\n",
    "\n",
    "# # Number of features to consider at every split\n",
    "# max_features = ['auto', 'sqrt']\n",
    "\n",
    "# # Maximum number of levels in tree\n",
    "# max_depth = np.arange(10, 60, step=10).tolist()\n",
    "# max_depth.append(None)\n",
    "\n",
    "# # Minimum number of samples required at each leaf node\n",
    "# min_samples_leaf = [5, 7, 9]\n",
    "\n",
    "# # Method of selecting samples for training each tree\n",
    "# bootstrap = [True, False]\n",
    "\n",
    "# random_grid = {\n",
    "#     'n_estimators': n_estimators,\n",
    "#     'max_features': max_features,\n",
    "#     'max_depth': max_depth,\n",
    "#     'min_samples_leaf': min_samples_leaf,\n",
    "#     'bootstrap': bootstrap\n",
    "# }\n",
    "\n",
    "# for i in random_grid.keys():\n",
    "#     print(random_grid[i])"
   ]
  },
  {
   "cell_type": "code",
   "execution_count": 14,
   "metadata": {
    "execution": {
     "iopub.execute_input": "2021-03-17T07:42:15.795935Z",
     "iopub.status.busy": "2021-03-17T07:42:15.795159Z",
     "iopub.status.idle": "2021-03-17T07:42:15.798698Z",
     "shell.execute_reply": "2021-03-17T07:42:15.798122Z"
    },
    "papermill": {
     "duration": 0.025321,
     "end_time": "2021-03-17T07:42:15.798831",
     "exception": false,
     "start_time": "2021-03-17T07:42:15.773510",
     "status": "completed"
    },
    "tags": []
   },
   "outputs": [],
   "source": [
    "# rf_random = RandomizedSearchCV(estimator=RandomForestRegressor(), param_distributions=random_grid, cv=3, verbose=3, random_state=42)\n",
    "\n",
    "# rf_random.fit(X, y)"
   ]
  },
  {
   "cell_type": "code",
   "execution_count": 15,
   "metadata": {
    "execution": {
     "iopub.execute_input": "2021-03-17T07:42:15.840381Z",
     "iopub.status.busy": "2021-03-17T07:42:15.839335Z",
     "iopub.status.idle": "2021-03-17T07:42:15.842070Z",
     "shell.execute_reply": "2021-03-17T07:42:15.842703Z"
    },
    "papermill": {
     "duration": 0.02577,
     "end_time": "2021-03-17T07:42:15.842883",
     "exception": false,
     "start_time": "2021-03-17T07:42:15.817113",
     "status": "completed"
    },
    "tags": []
   },
   "outputs": [],
   "source": [
    "# rf_random.best_params_"
   ]
  },
  {
   "cell_type": "markdown",
   "metadata": {
    "papermill": {
     "duration": 0.018039,
     "end_time": "2021-03-17T07:42:15.879487",
     "exception": false,
     "start_time": "2021-03-17T07:42:15.861448",
     "status": "completed"
    },
    "tags": []
   },
   "source": [
    "The `rf_random.best_params_` found above are as follows:\n",
    "\n",
    "{'n_estimators': 150,\n",
    " 'min_samples_leaf': 9,\n",
    " 'max_features': 'auto',\n",
    " 'max_depth': 20,\n",
    " 'bootstrap': True}"
   ]
  },
  {
   "cell_type": "markdown",
   "metadata": {
    "papermill": {
     "duration": 0.018053,
     "end_time": "2021-03-17T07:42:15.915917",
     "exception": false,
     "start_time": "2021-03-17T07:42:15.897864",
     "status": "completed"
    },
    "tags": []
   },
   "source": [
    "Using the above parameters, we can narrow our search into a smaller grid and carry out [GridSearchCV](https://scikit-learn.org/stable/modules/generated/sklearn.model_selection.GridSearchCV.html), this time iterating through all parameter settings in the grid."
   ]
  },
  {
   "cell_type": "code",
   "execution_count": 16,
   "metadata": {
    "execution": {
     "iopub.execute_input": "2021-03-17T07:42:15.957896Z",
     "iopub.status.busy": "2021-03-17T07:42:15.957033Z",
     "iopub.status.idle": "2021-03-17T07:42:15.960432Z",
     "shell.execute_reply": "2021-03-17T07:42:15.959780Z"
    },
    "papermill": {
     "duration": 0.026534,
     "end_time": "2021-03-17T07:42:15.960566",
     "exception": false,
     "start_time": "2021-03-17T07:42:15.934032",
     "status": "completed"
    },
    "tags": []
   },
   "outputs": [],
   "source": [
    "from sklearn.model_selection import GridSearchCV"
   ]
  },
  {
   "cell_type": "code",
   "execution_count": 17,
   "metadata": {
    "execution": {
     "iopub.execute_input": "2021-03-17T07:42:16.004834Z",
     "iopub.status.busy": "2021-03-17T07:42:16.003837Z",
     "iopub.status.idle": "2021-03-17T10:17:00.508993Z",
     "shell.execute_reply": "2021-03-17T10:17:00.509540Z"
    },
    "papermill": {
     "duration": 9284.531626,
     "end_time": "2021-03-17T10:17:00.509844",
     "exception": false,
     "start_time": "2021-03-17T07:42:15.978218",
     "status": "completed"
    },
    "tags": []
   },
   "outputs": [
    {
     "name": "stdout",
     "output_type": "stream",
     "text": [
      "Fitting 3 folds for each of 12 candidates, totalling 36 fits\n",
      "[CV 1/3] END bootstrap=True, max_depth=10, max_features=auto, min_samples_leaf=9, n_estimators=100; total time= 2.0min\n",
      "[CV 2/3] END bootstrap=True, max_depth=10, max_features=auto, min_samples_leaf=9, n_estimators=100; total time= 2.0min\n",
      "[CV 3/3] END bootstrap=True, max_depth=10, max_features=auto, min_samples_leaf=9, n_estimators=100; total time= 2.0min\n",
      "[CV 1/3] END bootstrap=True, max_depth=10, max_features=auto, min_samples_leaf=9, n_estimators=150; total time= 3.0min\n",
      "[CV 2/3] END bootstrap=True, max_depth=10, max_features=auto, min_samples_leaf=9, n_estimators=150; total time= 3.0min\n",
      "[CV 3/3] END bootstrap=True, max_depth=10, max_features=auto, min_samples_leaf=9, n_estimators=150; total time= 3.0min\n",
      "[CV 1/3] END bootstrap=True, max_depth=10, max_features=auto, min_samples_leaf=9, n_estimators=200; total time= 4.0min\n",
      "[CV 2/3] END bootstrap=True, max_depth=10, max_features=auto, min_samples_leaf=9, n_estimators=200; total time= 4.0min\n",
      "[CV 3/3] END bootstrap=True, max_depth=10, max_features=auto, min_samples_leaf=9, n_estimators=200; total time= 4.1min\n",
      "[CV 1/3] END bootstrap=True, max_depth=20, max_features=auto, min_samples_leaf=9, n_estimators=100; total time= 3.0min\n",
      "[CV 2/3] END bootstrap=True, max_depth=20, max_features=auto, min_samples_leaf=9, n_estimators=100; total time= 2.9min\n",
      "[CV 3/3] END bootstrap=True, max_depth=20, max_features=auto, min_samples_leaf=9, n_estimators=100; total time= 2.9min\n",
      "[CV 1/3] END bootstrap=True, max_depth=20, max_features=auto, min_samples_leaf=9, n_estimators=150; total time= 4.4min\n",
      "[CV 2/3] END bootstrap=True, max_depth=20, max_features=auto, min_samples_leaf=9, n_estimators=150; total time= 4.3min\n",
      "[CV 3/3] END bootstrap=True, max_depth=20, max_features=auto, min_samples_leaf=9, n_estimators=150; total time= 4.4min\n",
      "[CV 1/3] END bootstrap=True, max_depth=20, max_features=auto, min_samples_leaf=9, n_estimators=200; total time= 5.9min\n",
      "[CV 2/3] END bootstrap=True, max_depth=20, max_features=auto, min_samples_leaf=9, n_estimators=200; total time= 5.8min\n",
      "[CV 3/3] END bootstrap=True, max_depth=20, max_features=auto, min_samples_leaf=9, n_estimators=200; total time= 5.8min\n",
      "[CV 1/3] END bootstrap=True, max_depth=30, max_features=auto, min_samples_leaf=9, n_estimators=100; total time= 3.0min\n",
      "[CV 2/3] END bootstrap=True, max_depth=30, max_features=auto, min_samples_leaf=9, n_estimators=100; total time= 3.0min\n",
      "[CV 3/3] END bootstrap=True, max_depth=30, max_features=auto, min_samples_leaf=9, n_estimators=100; total time= 3.0min\n",
      "[CV 1/3] END bootstrap=True, max_depth=30, max_features=auto, min_samples_leaf=9, n_estimators=150; total time= 4.4min\n",
      "[CV 2/3] END bootstrap=True, max_depth=30, max_features=auto, min_samples_leaf=9, n_estimators=150; total time= 4.4min\n",
      "[CV 3/3] END bootstrap=True, max_depth=30, max_features=auto, min_samples_leaf=9, n_estimators=150; total time= 4.4min\n",
      "[CV 1/3] END bootstrap=True, max_depth=30, max_features=auto, min_samples_leaf=9, n_estimators=200; total time= 5.9min\n",
      "[CV 2/3] END bootstrap=True, max_depth=30, max_features=auto, min_samples_leaf=9, n_estimators=200; total time= 5.9min\n",
      "[CV 3/3] END bootstrap=True, max_depth=30, max_features=auto, min_samples_leaf=9, n_estimators=200; total time= 5.8min\n",
      "[CV 1/3] END bootstrap=True, max_depth=40, max_features=auto, min_samples_leaf=9, n_estimators=100; total time= 2.9min\n",
      "[CV 2/3] END bootstrap=True, max_depth=40, max_features=auto, min_samples_leaf=9, n_estimators=100; total time= 2.9min\n",
      "[CV 3/3] END bootstrap=True, max_depth=40, max_features=auto, min_samples_leaf=9, n_estimators=100; total time= 2.9min\n",
      "[CV 1/3] END bootstrap=True, max_depth=40, max_features=auto, min_samples_leaf=9, n_estimators=150; total time= 4.4min\n",
      "[CV 2/3] END bootstrap=True, max_depth=40, max_features=auto, min_samples_leaf=9, n_estimators=150; total time= 4.4min\n",
      "[CV 3/3] END bootstrap=True, max_depth=40, max_features=auto, min_samples_leaf=9, n_estimators=150; total time= 4.4min\n",
      "[CV 1/3] END bootstrap=True, max_depth=40, max_features=auto, min_samples_leaf=9, n_estimators=200; total time= 5.9min\n",
      "[CV 2/3] END bootstrap=True, max_depth=40, max_features=auto, min_samples_leaf=9, n_estimators=200; total time= 5.8min\n",
      "[CV 3/3] END bootstrap=True, max_depth=40, max_features=auto, min_samples_leaf=9, n_estimators=200; total time= 5.8min\n"
     ]
    },
    {
     "data": {
      "text/plain": [
       "GridSearchCV(cv=3, estimator=RandomForestRegressor(),\n",
       "             param_grid={'bootstrap': [True], 'max_depth': [10, 20, 30, 40],\n",
       "                         'max_features': ['auto'], 'min_samples_leaf': [9],\n",
       "                         'n_estimators': [100, 150, 200]},\n",
       "             verbose=3)"
      ]
     },
     "execution_count": 17,
     "metadata": {},
     "output_type": "execute_result"
    }
   ],
   "source": [
    "param_grid = {\n",
    "    'bootstrap': [True],\n",
    "    'max_depth': [10, 20, 30, 40],\n",
    "    'max_features': ['auto'],\n",
    "    'min_samples_leaf': [9],\n",
    "    'n_estimators': [100, 150, 200]\n",
    "}\n",
    "\n",
    "rf_gs = GridSearchCV(estimator=RandomForestRegressor(), param_grid=param_grid, cv=3, verbose=3)\n",
    "\n",
    "rf_gs.fit(X, y)"
   ]
  },
  {
   "cell_type": "code",
   "execution_count": 18,
   "metadata": {
    "execution": {
     "iopub.execute_input": "2021-03-17T10:17:00.574431Z",
     "iopub.status.busy": "2021-03-17T10:17:00.573442Z",
     "iopub.status.idle": "2021-03-17T10:17:00.577752Z",
     "shell.execute_reply": "2021-03-17T10:17:00.577070Z"
    },
    "papermill": {
     "duration": 0.038843,
     "end_time": "2021-03-17T10:17:00.577888",
     "exception": false,
     "start_time": "2021-03-17T10:17:00.539045",
     "status": "completed"
    },
    "tags": []
   },
   "outputs": [
    {
     "data": {
      "text/plain": [
       "{'bootstrap': True,\n",
       " 'max_depth': 20,\n",
       " 'max_features': 'auto',\n",
       " 'min_samples_leaf': 9,\n",
       " 'n_estimators': 200}"
      ]
     },
     "execution_count": 18,
     "metadata": {},
     "output_type": "execute_result"
    }
   ],
   "source": [
    "rf_gs.best_params_"
   ]
  },
  {
   "cell_type": "markdown",
   "metadata": {
    "papermill": {
     "duration": 0.030075,
     "end_time": "2021-03-17T10:17:00.637962",
     "exception": false,
     "start_time": "2021-03-17T10:17:00.607887",
     "status": "completed"
    },
    "tags": []
   },
   "source": [
    "`rf_gs.best_params_` gave us: \n",
    "\n",
    "{'bootstrap': True,\n",
    " 'max_depth': 20,\n",
    " 'max_features': 'auto',\n",
    " 'min_samples_leaf': 9,\n",
    " 'n_estimators': 200}"
   ]
  },
  {
   "cell_type": "code",
   "execution_count": 19,
   "metadata": {
    "execution": {
     "iopub.execute_input": "2021-03-17T10:17:00.702126Z",
     "iopub.status.busy": "2021-03-17T10:17:00.701503Z",
     "iopub.status.idle": "2021-03-17T10:17:01.815565Z",
     "shell.execute_reply": "2021-03-17T10:17:01.816019Z"
    },
    "papermill": {
     "duration": 1.148117,
     "end_time": "2021-03-17T10:17:01.816189",
     "exception": false,
     "start_time": "2021-03-17T10:17:00.668072",
     "status": "completed"
    },
    "tags": []
   },
   "outputs": [
    {
     "data": {
      "text/html": [
       "<div>\n",
       "<style scoped>\n",
       "    .dataframe tbody tr th:only-of-type {\n",
       "        vertical-align: middle;\n",
       "    }\n",
       "\n",
       "    .dataframe tbody tr th {\n",
       "        vertical-align: top;\n",
       "    }\n",
       "\n",
       "    .dataframe thead th {\n",
       "        text-align: right;\n",
       "    }\n",
       "</style>\n",
       "<table border=\"1\" class=\"dataframe\">\n",
       "  <thead>\n",
       "    <tr style=\"text-align: right;\">\n",
       "      <th></th>\n",
       "      <th>id</th>\n",
       "      <th>sales</th>\n",
       "    </tr>\n",
       "  </thead>\n",
       "  <tbody>\n",
       "    <tr>\n",
       "      <th>0</th>\n",
       "      <td>0</td>\n",
       "      <td>13</td>\n",
       "    </tr>\n",
       "    <tr>\n",
       "      <th>1</th>\n",
       "      <td>1</td>\n",
       "      <td>13</td>\n",
       "    </tr>\n",
       "    <tr>\n",
       "      <th>2</th>\n",
       "      <td>2</td>\n",
       "      <td>13</td>\n",
       "    </tr>\n",
       "    <tr>\n",
       "      <th>3</th>\n",
       "      <td>3</td>\n",
       "      <td>14</td>\n",
       "    </tr>\n",
       "    <tr>\n",
       "      <th>4</th>\n",
       "      <td>4</td>\n",
       "      <td>16</td>\n",
       "    </tr>\n",
       "  </tbody>\n",
       "</table>\n",
       "</div>"
      ],
      "text/plain": [
       "   id  sales\n",
       "0   0     13\n",
       "1   1     13\n",
       "2   2     13\n",
       "3   3     14\n",
       "4   4     16"
      ]
     },
     "execution_count": 19,
     "metadata": {},
     "output_type": "execute_result"
    }
   ],
   "source": [
    "X_test = test.copy()\n",
    "X_test.drop(['id'], axis=1, inplace=True)\n",
    "\n",
    "test_preds = rf_gs.predict(X_test)\n",
    "\n",
    "sample_sub = sample_sub_original.copy()\n",
    "sample_sub['sales'] = test_preds\n",
    "sample_sub['sales'] = np.round(sample_sub['sales']).astype(int)\n",
    "sample_sub.head()"
   ]
  },
  {
   "cell_type": "code",
   "execution_count": 20,
   "metadata": {
    "execution": {
     "iopub.execute_input": "2021-03-17T10:17:01.957035Z",
     "iopub.status.busy": "2021-03-17T10:17:01.956318Z",
     "iopub.status.idle": "2021-03-17T10:17:02.045860Z",
     "shell.execute_reply": "2021-03-17T10:17:02.045086Z"
    },
    "papermill": {
     "duration": 0.1992,
     "end_time": "2021-03-17T10:17:02.046010",
     "exception": false,
     "start_time": "2021-03-17T10:17:01.846810",
     "status": "completed"
    },
    "tags": []
   },
   "outputs": [],
   "source": [
    "sample_sub.to_csv('./submission.csv', index=False) # Public Score of 14.51!!"
   ]
  }
 ],
 "metadata": {
  "kernelspec": {
   "display_name": "Python 3",
   "language": "python",
   "name": "python3"
  },
  "language_info": {
   "codemirror_mode": {
    "name": "ipython",
    "version": 3
   },
   "file_extension": ".py",
   "mimetype": "text/x-python",
   "name": "python",
   "nbconvert_exporter": "python",
   "pygments_lexer": "ipython3",
   "version": "3.7.9"
  },
  "papermill": {
   "default_parameters": {},
   "duration": 9521.698837,
   "end_time": "2021-03-17T10:17:02.787341",
   "environment_variables": {},
   "exception": null,
   "input_path": "__notebook__.ipynb",
   "output_path": "__notebook__.ipynb",
   "parameters": {},
   "start_time": "2021-03-17T07:38:21.088504",
   "version": "2.2.2"
  }
 },
 "nbformat": 4,
 "nbformat_minor": 4
}
