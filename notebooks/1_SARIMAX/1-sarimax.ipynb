{
 "cells": [
  {
   "cell_type": "markdown",
   "metadata": {
    "papermill": {
     "duration": 0.018045,
     "end_time": "2021-03-17T07:12:10.872236",
     "exception": false,
     "start_time": "2021-03-17T07:12:10.854191",
     "status": "completed"
    },
    "tags": []
   },
   "source": [
    "# Average (Dumb) Predictor, SARIMAX"
   ]
  },
  {
   "cell_type": "code",
   "execution_count": 1,
   "metadata": {
    "execution": {
     "iopub.execute_input": "2021-03-17T07:12:10.909991Z",
     "iopub.status.busy": "2021-03-17T07:12:10.909029Z",
     "iopub.status.idle": "2021-03-17T07:12:12.123709Z",
     "shell.execute_reply": "2021-03-17T07:12:12.122800Z"
    },
    "papermill": {
     "duration": 1.234841,
     "end_time": "2021-03-17T07:12:12.123932",
     "exception": false,
     "start_time": "2021-03-17T07:12:10.889091",
     "status": "completed"
    },
    "tags": []
   },
   "outputs": [],
   "source": [
    "import pandas as pd\n",
    "import sklearn\n",
    "import numpy as np\n",
    "import matplotlib.pyplot as plt"
   ]
  },
  {
   "cell_type": "code",
   "execution_count": 2,
   "metadata": {
    "execution": {
     "iopub.execute_input": "2021-03-17T07:12:12.164883Z",
     "iopub.status.busy": "2021-03-17T07:12:12.163977Z",
     "iopub.status.idle": "2021-03-17T07:12:12.167098Z",
     "shell.execute_reply": "2021-03-17T07:12:12.166568Z"
    },
    "papermill": {
     "duration": 0.025403,
     "end_time": "2021-03-17T07:12:12.167238",
     "exception": false,
     "start_time": "2021-03-17T07:12:12.141835",
     "status": "completed"
    },
    "tags": []
   },
   "outputs": [],
   "source": [
    "root_dir = \"../input/demand-forecasting-kernels-only/\"\n",
    "\n",
    "train_filepath = root_dir + \"train.csv\"\n",
    "test_filepath = root_dir + \"test.csv\"\n",
    "sample_sub_fp = root_dir + \"sample_submission.csv\""
   ]
  },
  {
   "cell_type": "code",
   "execution_count": 3,
   "metadata": {
    "execution": {
     "iopub.execute_input": "2021-03-17T07:12:12.205343Z",
     "iopub.status.busy": "2021-03-17T07:12:12.204717Z",
     "iopub.status.idle": "2021-03-17T07:12:13.148929Z",
     "shell.execute_reply": "2021-03-17T07:12:13.148252Z"
    },
    "papermill": {
     "duration": 0.964539,
     "end_time": "2021-03-17T07:12:13.149110",
     "exception": false,
     "start_time": "2021-03-17T07:12:12.184571",
     "status": "completed"
    },
    "tags": []
   },
   "outputs": [],
   "source": [
    "train_df = pd.read_csv(train_filepath, low_memory=False, parse_dates=['date'], index_col=['date'])\n",
    "test_df = pd.read_csv(test_filepath, low_memory=False, parse_dates=['date'], index_col=['date'])\n",
    "s_df = pd.read_csv(sample_sub_fp)"
   ]
  },
  {
   "cell_type": "code",
   "execution_count": 4,
   "metadata": {
    "execution": {
     "iopub.execute_input": "2021-03-17T07:12:13.190572Z",
     "iopub.status.busy": "2021-03-17T07:12:13.189912Z",
     "iopub.status.idle": "2021-03-17T07:12:13.474631Z",
     "shell.execute_reply": "2021-03-17T07:12:13.474011Z"
    },
    "papermill": {
     "duration": 0.307555,
     "end_time": "2021-03-17T07:12:13.474778",
     "exception": false,
     "start_time": "2021-03-17T07:12:13.167223",
     "status": "completed"
    },
    "tags": []
   },
   "outputs": [],
   "source": [
    "train_df['day'] = train_df.index.day\n",
    "train_df['month'] = train_df.index.month\n",
    "train_df['year'] = train_df.index.year\n",
    "\n",
    "train_df = train_df.reset_index()"
   ]
  },
  {
   "cell_type": "code",
   "execution_count": 5,
   "metadata": {
    "execution": {
     "iopub.execute_input": "2021-03-17T07:12:13.519751Z",
     "iopub.status.busy": "2021-03-17T07:12:13.519033Z",
     "iopub.status.idle": "2021-03-17T07:12:13.537740Z",
     "shell.execute_reply": "2021-03-17T07:12:13.537058Z"
    },
    "papermill": {
     "duration": 0.045622,
     "end_time": "2021-03-17T07:12:13.537893",
     "exception": false,
     "start_time": "2021-03-17T07:12:13.492271",
     "status": "completed"
    },
    "scrolled": true,
    "tags": []
   },
   "outputs": [
    {
     "data": {
      "text/html": [
       "<div>\n",
       "<style scoped>\n",
       "    .dataframe tbody tr th:only-of-type {\n",
       "        vertical-align: middle;\n",
       "    }\n",
       "\n",
       "    .dataframe tbody tr th {\n",
       "        vertical-align: top;\n",
       "    }\n",
       "\n",
       "    .dataframe thead th {\n",
       "        text-align: right;\n",
       "    }\n",
       "</style>\n",
       "<table border=\"1\" class=\"dataframe\">\n",
       "  <thead>\n",
       "    <tr style=\"text-align: right;\">\n",
       "      <th></th>\n",
       "      <th>date</th>\n",
       "      <th>store</th>\n",
       "      <th>item</th>\n",
       "      <th>sales</th>\n",
       "      <th>day</th>\n",
       "      <th>month</th>\n",
       "      <th>year</th>\n",
       "    </tr>\n",
       "  </thead>\n",
       "  <tbody>\n",
       "    <tr>\n",
       "      <th>0</th>\n",
       "      <td>2013-01-01</td>\n",
       "      <td>1</td>\n",
       "      <td>1</td>\n",
       "      <td>13</td>\n",
       "      <td>1</td>\n",
       "      <td>1</td>\n",
       "      <td>2013</td>\n",
       "    </tr>\n",
       "    <tr>\n",
       "      <th>1</th>\n",
       "      <td>2013-01-02</td>\n",
       "      <td>1</td>\n",
       "      <td>1</td>\n",
       "      <td>11</td>\n",
       "      <td>2</td>\n",
       "      <td>1</td>\n",
       "      <td>2013</td>\n",
       "    </tr>\n",
       "    <tr>\n",
       "      <th>2</th>\n",
       "      <td>2013-01-03</td>\n",
       "      <td>1</td>\n",
       "      <td>1</td>\n",
       "      <td>14</td>\n",
       "      <td>3</td>\n",
       "      <td>1</td>\n",
       "      <td>2013</td>\n",
       "    </tr>\n",
       "    <tr>\n",
       "      <th>3</th>\n",
       "      <td>2013-01-04</td>\n",
       "      <td>1</td>\n",
       "      <td>1</td>\n",
       "      <td>13</td>\n",
       "      <td>4</td>\n",
       "      <td>1</td>\n",
       "      <td>2013</td>\n",
       "    </tr>\n",
       "    <tr>\n",
       "      <th>4</th>\n",
       "      <td>2013-01-05</td>\n",
       "      <td>1</td>\n",
       "      <td>1</td>\n",
       "      <td>10</td>\n",
       "      <td>5</td>\n",
       "      <td>1</td>\n",
       "      <td>2013</td>\n",
       "    </tr>\n",
       "    <tr>\n",
       "      <th>...</th>\n",
       "      <td>...</td>\n",
       "      <td>...</td>\n",
       "      <td>...</td>\n",
       "      <td>...</td>\n",
       "      <td>...</td>\n",
       "      <td>...</td>\n",
       "      <td>...</td>\n",
       "    </tr>\n",
       "    <tr>\n",
       "      <th>912995</th>\n",
       "      <td>2017-12-27</td>\n",
       "      <td>10</td>\n",
       "      <td>50</td>\n",
       "      <td>63</td>\n",
       "      <td>27</td>\n",
       "      <td>12</td>\n",
       "      <td>2017</td>\n",
       "    </tr>\n",
       "    <tr>\n",
       "      <th>912996</th>\n",
       "      <td>2017-12-28</td>\n",
       "      <td>10</td>\n",
       "      <td>50</td>\n",
       "      <td>59</td>\n",
       "      <td>28</td>\n",
       "      <td>12</td>\n",
       "      <td>2017</td>\n",
       "    </tr>\n",
       "    <tr>\n",
       "      <th>912997</th>\n",
       "      <td>2017-12-29</td>\n",
       "      <td>10</td>\n",
       "      <td>50</td>\n",
       "      <td>74</td>\n",
       "      <td>29</td>\n",
       "      <td>12</td>\n",
       "      <td>2017</td>\n",
       "    </tr>\n",
       "    <tr>\n",
       "      <th>912998</th>\n",
       "      <td>2017-12-30</td>\n",
       "      <td>10</td>\n",
       "      <td>50</td>\n",
       "      <td>62</td>\n",
       "      <td>30</td>\n",
       "      <td>12</td>\n",
       "      <td>2017</td>\n",
       "    </tr>\n",
       "    <tr>\n",
       "      <th>912999</th>\n",
       "      <td>2017-12-31</td>\n",
       "      <td>10</td>\n",
       "      <td>50</td>\n",
       "      <td>82</td>\n",
       "      <td>31</td>\n",
       "      <td>12</td>\n",
       "      <td>2017</td>\n",
       "    </tr>\n",
       "  </tbody>\n",
       "</table>\n",
       "<p>913000 rows × 7 columns</p>\n",
       "</div>"
      ],
      "text/plain": [
       "             date  store  item  sales  day  month  year\n",
       "0      2013-01-01      1     1     13    1      1  2013\n",
       "1      2013-01-02      1     1     11    2      1  2013\n",
       "2      2013-01-03      1     1     14    3      1  2013\n",
       "3      2013-01-04      1     1     13    4      1  2013\n",
       "4      2013-01-05      1     1     10    5      1  2013\n",
       "...           ...    ...   ...    ...  ...    ...   ...\n",
       "912995 2017-12-27     10    50     63   27     12  2017\n",
       "912996 2017-12-28     10    50     59   28     12  2017\n",
       "912997 2017-12-29     10    50     74   29     12  2017\n",
       "912998 2017-12-30     10    50     62   30     12  2017\n",
       "912999 2017-12-31     10    50     82   31     12  2017\n",
       "\n",
       "[913000 rows x 7 columns]"
      ]
     },
     "execution_count": 5,
     "metadata": {},
     "output_type": "execute_result"
    }
   ],
   "source": [
    "train_df"
   ]
  },
  {
   "cell_type": "markdown",
   "metadata": {
    "papermill": {
     "duration": 0.017979,
     "end_time": "2021-03-17T07:12:13.574684",
     "exception": false,
     "start_time": "2021-03-17T07:12:13.556705",
     "status": "completed"
    },
    "tags": []
   },
   "source": [
    "# General Information\n",
    "\n",
    "### Train Dataset\n",
    "   - 5 years from 1/1/2013 (Tuesday) to 31/12/2017 (Saturday)\n",
    "   - 1826 Contiguous days of sales (no store closure) \n",
    "   - 10 stores\n",
    "   - 50 unique items\n",
    "   - 500 unique (store-item) pairs (This means every store sells those 50 items)"
   ]
  },
  {
   "cell_type": "code",
   "execution_count": 6,
   "metadata": {
    "execution": {
     "iopub.execute_input": "2021-03-17T07:12:13.619684Z",
     "iopub.status.busy": "2021-03-17T07:12:13.619002Z",
     "iopub.status.idle": "2021-03-17T07:12:13.656548Z",
     "shell.execute_reply": "2021-03-17T07:12:13.655823Z"
    },
    "papermill": {
     "duration": 0.063679,
     "end_time": "2021-03-17T07:12:13.656714",
     "exception": false,
     "start_time": "2021-03-17T07:12:13.593035",
     "status": "completed"
    },
    "tags": []
   },
   "outputs": [
    {
     "name": "stdout",
     "output_type": "stream",
     "text": [
      "[2013 2014 2015 2016 2017]\n",
      "[ 1  2  3  4  5  6  7  8  9 10 11 12]\n",
      "[ 1  2  3  4  5  6  7  8  9 10 11 12 13 14 15 16 17 18 19 20 21 22 23 24\n",
      " 25 26 27 28 29 30 31]\n",
      "[ 1  2  3  4  5  6  7  8  9 10]\n",
      "[ 1  2  3  4  5  6  7  8  9 10 11 12 13 14 15 16 17 18 19 20 21 22 23 24\n",
      " 25 26 27 28 29 30 31 32 33 34 35 36 37 38 39 40 41 42 43 44 45 46 47 48\n",
      " 49 50]\n"
     ]
    }
   ],
   "source": [
    "df = train_df\n",
    "# number of years\n",
    "print(df.year.unique())\n",
    "\n",
    "# number of months\n",
    "print(df.month.unique())\n",
    "\n",
    "# number of days - \n",
    "print(df.day.unique())\n",
    "\n",
    "# number of stores\n",
    "print(df.store.unique())\n",
    "\n",
    "# number of items\n",
    "print(df.item.unique())"
   ]
  },
  {
   "cell_type": "code",
   "execution_count": 7,
   "metadata": {
    "execution": {
     "iopub.execute_input": "2021-03-17T07:12:13.701418Z",
     "iopub.status.busy": "2021-03-17T07:12:13.700696Z",
     "iopub.status.idle": "2021-03-17T07:12:13.765682Z",
     "shell.execute_reply": "2021-03-17T07:12:13.764955Z"
    },
    "papermill": {
     "duration": 0.088956,
     "end_time": "2021-03-17T07:12:13.765832",
     "exception": false,
     "start_time": "2021-03-17T07:12:13.676876",
     "status": "completed"
    },
    "scrolled": true,
    "tags": []
   },
   "outputs": [
    {
     "data": {
      "text/html": [
       "<div>\n",
       "<style scoped>\n",
       "    .dataframe tbody tr th:only-of-type {\n",
       "        vertical-align: middle;\n",
       "    }\n",
       "\n",
       "    .dataframe tbody tr th {\n",
       "        vertical-align: top;\n",
       "    }\n",
       "\n",
       "    .dataframe thead th {\n",
       "        text-align: right;\n",
       "    }\n",
       "</style>\n",
       "<table border=\"1\" class=\"dataframe\">\n",
       "  <thead>\n",
       "    <tr style=\"text-align: right;\">\n",
       "      <th></th>\n",
       "      <th>store</th>\n",
       "      <th>item</th>\n",
       "      <th>count</th>\n",
       "    </tr>\n",
       "  </thead>\n",
       "  <tbody>\n",
       "    <tr>\n",
       "      <th>0</th>\n",
       "      <td>1</td>\n",
       "      <td>1</td>\n",
       "      <td>1826</td>\n",
       "    </tr>\n",
       "    <tr>\n",
       "      <th>1</th>\n",
       "      <td>1</td>\n",
       "      <td>2</td>\n",
       "      <td>1826</td>\n",
       "    </tr>\n",
       "    <tr>\n",
       "      <th>2</th>\n",
       "      <td>1</td>\n",
       "      <td>3</td>\n",
       "      <td>1826</td>\n",
       "    </tr>\n",
       "    <tr>\n",
       "      <th>3</th>\n",
       "      <td>1</td>\n",
       "      <td>4</td>\n",
       "      <td>1826</td>\n",
       "    </tr>\n",
       "    <tr>\n",
       "      <th>4</th>\n",
       "      <td>1</td>\n",
       "      <td>5</td>\n",
       "      <td>1826</td>\n",
       "    </tr>\n",
       "    <tr>\n",
       "      <th>...</th>\n",
       "      <td>...</td>\n",
       "      <td>...</td>\n",
       "      <td>...</td>\n",
       "    </tr>\n",
       "    <tr>\n",
       "      <th>495</th>\n",
       "      <td>10</td>\n",
       "      <td>46</td>\n",
       "      <td>1826</td>\n",
       "    </tr>\n",
       "    <tr>\n",
       "      <th>496</th>\n",
       "      <td>10</td>\n",
       "      <td>47</td>\n",
       "      <td>1826</td>\n",
       "    </tr>\n",
       "    <tr>\n",
       "      <th>497</th>\n",
       "      <td>10</td>\n",
       "      <td>48</td>\n",
       "      <td>1826</td>\n",
       "    </tr>\n",
       "    <tr>\n",
       "      <th>498</th>\n",
       "      <td>10</td>\n",
       "      <td>49</td>\n",
       "      <td>1826</td>\n",
       "    </tr>\n",
       "    <tr>\n",
       "      <th>499</th>\n",
       "      <td>10</td>\n",
       "      <td>50</td>\n",
       "      <td>1826</td>\n",
       "    </tr>\n",
       "  </tbody>\n",
       "</table>\n",
       "<p>500 rows × 3 columns</p>\n",
       "</div>"
      ],
      "text/plain": [
       "     store  item  count\n",
       "0        1     1   1826\n",
       "1        1     2   1826\n",
       "2        1     3   1826\n",
       "3        1     4   1826\n",
       "4        1     5   1826\n",
       "..     ...   ...    ...\n",
       "495     10    46   1826\n",
       "496     10    47   1826\n",
       "497     10    48   1826\n",
       "498     10    49   1826\n",
       "499     10    50   1826\n",
       "\n",
       "[500 rows x 3 columns]"
      ]
     },
     "execution_count": 7,
     "metadata": {},
     "output_type": "execute_result"
    }
   ],
   "source": [
    "df.groupby(['store','item']).size().reset_index().rename(columns={0:'count'})"
   ]
  },
  {
   "cell_type": "code",
   "execution_count": 8,
   "metadata": {
    "execution": {
     "iopub.execute_input": "2021-03-17T07:12:13.811890Z",
     "iopub.status.busy": "2021-03-17T07:12:13.811144Z",
     "iopub.status.idle": "2021-03-17T07:12:23.183233Z",
     "shell.execute_reply": "2021-03-17T07:12:23.183726Z"
    },
    "papermill": {
     "duration": 9.3987,
     "end_time": "2021-03-17T07:12:23.183928",
     "exception": false,
     "start_time": "2021-03-17T07:12:13.785228",
     "status": "completed"
    },
    "scrolled": true,
    "tags": []
   },
   "outputs": [
    {
     "data": {
      "text/html": [
       "<div>\n",
       "<style scoped>\n",
       "    .dataframe tbody tr th:only-of-type {\n",
       "        vertical-align: middle;\n",
       "    }\n",
       "\n",
       "    .dataframe tbody tr th {\n",
       "        vertical-align: top;\n",
       "    }\n",
       "\n",
       "    .dataframe thead th {\n",
       "        text-align: right;\n",
       "    }\n",
       "</style>\n",
       "<table border=\"1\" class=\"dataframe\">\n",
       "  <thead>\n",
       "    <tr style=\"text-align: right;\">\n",
       "      <th></th>\n",
       "      <th>date</th>\n",
       "      <th>store</th>\n",
       "      <th>item</th>\n",
       "      <th>sales</th>\n",
       "      <th>day</th>\n",
       "      <th>month</th>\n",
       "      <th>year</th>\n",
       "      <th>weekday</th>\n",
       "    </tr>\n",
       "  </thead>\n",
       "  <tbody>\n",
       "    <tr>\n",
       "      <th>0</th>\n",
       "      <td>2013-01-01</td>\n",
       "      <td>1</td>\n",
       "      <td>1</td>\n",
       "      <td>13</td>\n",
       "      <td>1</td>\n",
       "      <td>1</td>\n",
       "      <td>2013</td>\n",
       "      <td>1</td>\n",
       "    </tr>\n",
       "    <tr>\n",
       "      <th>1</th>\n",
       "      <td>2013-01-02</td>\n",
       "      <td>1</td>\n",
       "      <td>1</td>\n",
       "      <td>11</td>\n",
       "      <td>2</td>\n",
       "      <td>1</td>\n",
       "      <td>2013</td>\n",
       "      <td>2</td>\n",
       "    </tr>\n",
       "    <tr>\n",
       "      <th>2</th>\n",
       "      <td>2013-01-03</td>\n",
       "      <td>1</td>\n",
       "      <td>1</td>\n",
       "      <td>14</td>\n",
       "      <td>3</td>\n",
       "      <td>1</td>\n",
       "      <td>2013</td>\n",
       "      <td>3</td>\n",
       "    </tr>\n",
       "    <tr>\n",
       "      <th>3</th>\n",
       "      <td>2013-01-04</td>\n",
       "      <td>1</td>\n",
       "      <td>1</td>\n",
       "      <td>13</td>\n",
       "      <td>4</td>\n",
       "      <td>1</td>\n",
       "      <td>2013</td>\n",
       "      <td>4</td>\n",
       "    </tr>\n",
       "    <tr>\n",
       "      <th>4</th>\n",
       "      <td>2013-01-05</td>\n",
       "      <td>1</td>\n",
       "      <td>1</td>\n",
       "      <td>10</td>\n",
       "      <td>5</td>\n",
       "      <td>1</td>\n",
       "      <td>2013</td>\n",
       "      <td>5</td>\n",
       "    </tr>\n",
       "    <tr>\n",
       "      <th>...</th>\n",
       "      <td>...</td>\n",
       "      <td>...</td>\n",
       "      <td>...</td>\n",
       "      <td>...</td>\n",
       "      <td>...</td>\n",
       "      <td>...</td>\n",
       "      <td>...</td>\n",
       "      <td>...</td>\n",
       "    </tr>\n",
       "    <tr>\n",
       "      <th>912995</th>\n",
       "      <td>2017-12-27</td>\n",
       "      <td>10</td>\n",
       "      <td>50</td>\n",
       "      <td>63</td>\n",
       "      <td>27</td>\n",
       "      <td>12</td>\n",
       "      <td>2017</td>\n",
       "      <td>2</td>\n",
       "    </tr>\n",
       "    <tr>\n",
       "      <th>912996</th>\n",
       "      <td>2017-12-28</td>\n",
       "      <td>10</td>\n",
       "      <td>50</td>\n",
       "      <td>59</td>\n",
       "      <td>28</td>\n",
       "      <td>12</td>\n",
       "      <td>2017</td>\n",
       "      <td>3</td>\n",
       "    </tr>\n",
       "    <tr>\n",
       "      <th>912997</th>\n",
       "      <td>2017-12-29</td>\n",
       "      <td>10</td>\n",
       "      <td>50</td>\n",
       "      <td>74</td>\n",
       "      <td>29</td>\n",
       "      <td>12</td>\n",
       "      <td>2017</td>\n",
       "      <td>4</td>\n",
       "    </tr>\n",
       "    <tr>\n",
       "      <th>912998</th>\n",
       "      <td>2017-12-30</td>\n",
       "      <td>10</td>\n",
       "      <td>50</td>\n",
       "      <td>62</td>\n",
       "      <td>30</td>\n",
       "      <td>12</td>\n",
       "      <td>2017</td>\n",
       "      <td>5</td>\n",
       "    </tr>\n",
       "    <tr>\n",
       "      <th>912999</th>\n",
       "      <td>2017-12-31</td>\n",
       "      <td>10</td>\n",
       "      <td>50</td>\n",
       "      <td>82</td>\n",
       "      <td>31</td>\n",
       "      <td>12</td>\n",
       "      <td>2017</td>\n",
       "      <td>6</td>\n",
       "    </tr>\n",
       "  </tbody>\n",
       "</table>\n",
       "<p>913000 rows × 8 columns</p>\n",
       "</div>"
      ],
      "text/plain": [
       "              date  store  item  sales  day  month  year  weekday\n",
       "0       2013-01-01      1     1     13    1      1  2013        1\n",
       "1       2013-01-02      1     1     11    2      1  2013        2\n",
       "2       2013-01-03      1     1     14    3      1  2013        3\n",
       "3       2013-01-04      1     1     13    4      1  2013        4\n",
       "4       2013-01-05      1     1     10    5      1  2013        5\n",
       "...            ...    ...   ...    ...  ...    ...   ...      ...\n",
       "912995  2017-12-27     10    50     63   27     12  2017        2\n",
       "912996  2017-12-28     10    50     59   28     12  2017        3\n",
       "912997  2017-12-29     10    50     74   29     12  2017        4\n",
       "912998  2017-12-30     10    50     62   30     12  2017        5\n",
       "912999  2017-12-31     10    50     82   31     12  2017        6\n",
       "\n",
       "[913000 rows x 8 columns]"
      ]
     },
     "execution_count": 8,
     "metadata": {},
     "output_type": "execute_result"
    }
   ],
   "source": [
    "## Add weekdays, 0: Mon, 1: Tue, ... , 6: Sun\n",
    "import calendar\n",
    "df[\"date\"] = df['date'].apply(lambda x: x.date())\n",
    "df[\"date\"] = df['date'].apply(lambda x: str(x))\n",
    "df[\"weekday\"] = df[\"date\"].apply(lambda x: calendar.weekday(int(x.split(\"-\")[0]),int(x.split(\"-\")[1]), int(x.split(\"-\")[2])))\n",
    "df"
   ]
  },
  {
   "cell_type": "markdown",
   "metadata": {
    "papermill": {
     "duration": 0.019774,
     "end_time": "2021-03-17T07:12:23.224096",
     "exception": false,
     "start_time": "2021-03-17T07:12:23.204322",
     "status": "completed"
    },
    "tags": []
   },
   "source": [
    "# Descriptive Statistics\n",
    " - `sales` column mean & std"
   ]
  },
  {
   "cell_type": "code",
   "execution_count": 9,
   "metadata": {
    "execution": {
     "iopub.execute_input": "2021-03-17T07:12:23.272186Z",
     "iopub.status.busy": "2021-03-17T07:12:23.271218Z",
     "iopub.status.idle": "2021-03-17T07:12:23.307571Z",
     "shell.execute_reply": "2021-03-17T07:12:23.308104Z"
    },
    "papermill": {
     "duration": 0.063265,
     "end_time": "2021-03-17T07:12:23.308300",
     "exception": false,
     "start_time": "2021-03-17T07:12:23.245035",
     "status": "completed"
    },
    "tags": []
   },
   "outputs": [
    {
     "data": {
      "text/plain": [
       "count    913000.000000\n",
       "mean         52.250287\n",
       "std          28.801144\n",
       "min           0.000000\n",
       "25%          30.000000\n",
       "50%          47.000000\n",
       "75%          70.000000\n",
       "max         231.000000\n",
       "Name: sales, dtype: float64"
      ]
     },
     "execution_count": 9,
     "metadata": {},
     "output_type": "execute_result"
    }
   ],
   "source": [
    "df[\"sales\"].describe()"
   ]
  },
  {
   "cell_type": "markdown",
   "metadata": {
    "papermill": {
     "duration": 0.020733,
     "end_time": "2021-03-17T07:12:23.352206",
     "exception": false,
     "start_time": "2021-03-17T07:12:23.331473",
     "status": "completed"
    },
    "tags": []
   },
   "source": [
    "# Seasonality\n",
    "Every year, the mean sales follow a pattern, displaying a seasonality trend repeating every year, in an increasing fashion.\n",
    "- Mean sales increase as the year increases from 2013 to 2017\n",
    "- Mean sales trend increases from the start of the year (January) and peaks at the month of July before decreasing till December, with the exception of a subtle increase in mean sales between October and November."
   ]
  },
  {
   "cell_type": "code",
   "execution_count": 10,
   "metadata": {
    "execution": {
     "iopub.execute_input": "2021-03-17T07:12:23.404198Z",
     "iopub.status.busy": "2021-03-17T07:12:23.403550Z",
     "iopub.status.idle": "2021-03-17T07:12:24.756360Z",
     "shell.execute_reply": "2021-03-17T07:12:24.756861Z"
    },
    "papermill": {
     "duration": 1.383699,
     "end_time": "2021-03-17T07:12:24.757057",
     "exception": false,
     "start_time": "2021-03-17T07:12:23.373358",
     "status": "completed"
    },
    "tags": []
   },
   "outputs": [
    {
     "data": {
      "image/png": "[encoded data removed]",
      "text/plain": [
       "<Figure size 432x288 with 1 Axes>"
      ]
     },
     "metadata": {
      "needs_background": "light"
     },
     "output_type": "display_data"
    },
    {
     "data": {
      "image/png": "[encoded data removed]",
      "text/plain": [
       "<Figure size 432x288 with 1 Axes>"
      ]
     },
     "metadata": {
      "needs_background": "light"
     },
     "output_type": "display_data"
    },
    {
     "data": {
      "image/png": "[encoded data removed]",
      "text/plain": [
       "<Figure size 432x288 with 1 Axes>"
      ]
     },
     "metadata": {
      "needs_background": "light"
     },
     "output_type": "display_data"
    },
    {
     "data": {
      "image/png": "[encoded data removed]",
      "text/plain": [
       "<Figure size 432x288 with 1 Axes>"
      ]
     },
     "metadata": {
      "needs_background": "light"
     },
     "output_type": "display_data"
    },
    {
     "data": {
      "image/png": "[encoded data removed]",
      "text/plain": [
       "<Figure size 432x288 with 1 Axes>"
      ]
     },
     "metadata": {
      "needs_background": "light"
     },
     "output_type": "display_data"
    }
   ],
   "source": [
    "temp_df = df[['year', 'month', 'sales']]\n",
    "\n",
    "for i in temp_df.year.unique():\n",
    "    ax = temp_df[temp_df['year'] == i].groupby(['year', 'month']).mean().plot(xticks=range(temp_df.month.nunique()), legend=False)\n",
    "    ax.set_xticklabels(labels=temp_df[temp_df['year'] == i].groupby(['year', 'month']).mean().index, rotation=60)\n",
    "    ax.set_title(f'Sales Mean for {i}')\n",
    "    ax.set_xlabel('(Year, Month)')\n",
    "    ax.set_ylabel('Sales')"
   ]
  },
  {
   "cell_type": "markdown",
   "metadata": {
    "papermill": {
     "duration": 0.025176,
     "end_time": "2021-03-17T07:12:24.808895",
     "exception": false,
     "start_time": "2021-03-17T07:12:24.783719",
     "status": "completed"
    },
    "tags": []
   },
   "source": [
    "Plotting the sums instead of mean sales yields a similar seasonality trend."
   ]
  },
  {
   "cell_type": "code",
   "execution_count": 11,
   "metadata": {
    "execution": {
     "iopub.execute_input": "2021-03-17T07:12:24.875476Z",
     "iopub.status.busy": "2021-03-17T07:12:24.874710Z",
     "iopub.status.idle": "2021-03-17T07:12:26.101682Z",
     "shell.execute_reply": "2021-03-17T07:12:26.100981Z"
    },
    "papermill": {
     "duration": 1.267034,
     "end_time": "2021-03-17T07:12:26.101831",
     "exception": false,
     "start_time": "2021-03-17T07:12:24.834797",
     "status": "completed"
    },
    "tags": []
   },
   "outputs": [
    {
     "data": {
      "image/png": "[encoded data removed]",
      "text/plain": [
       "<Figure size 432x288 with 1 Axes>"
      ]
     },
     "metadata": {
      "needs_background": "light"
     },
     "output_type": "display_data"
    },
    {
     "data": {
      "image/png": "[encoded data removed]",
      "text/plain": [
       "<Figure size 432x288 with 1 Axes>"
      ]
     },
     "metadata": {
      "needs_background": "light"
     },
     "output_type": "display_data"
    },
    {
     "data": {
      "image/png": "[encoded data removed]",
      "text/plain": [
       "<Figure size 432x288 with 1 Axes>"
      ]
     },
     "metadata": {
      "needs_background": "light"
     },
     "output_type": "display_data"
    },
    {
     "data": {
      "image/png": "[encoded data removed]",
      "text/plain": [
       "<Figure size 432x288 with 1 Axes>"
      ]
     },
     "metadata": {
      "needs_background": "light"
     },
     "output_type": "display_data"
    },
    {
     "data": {
      "image/png": "[encoded data removed]",
      "text/plain": [
       "<Figure size 432x288 with 1 Axes>"
      ]
     },
     "metadata": {
      "needs_background": "light"
     },
     "output_type": "display_data"
    }
   ],
   "source": [
    "temp_df = df[['year', 'month', 'sales']]\n",
    "\n",
    "for i in temp_df.year.unique():\n",
    "    ax = temp_df[temp_df['year'] == i].groupby(['year', 'month']).sum().plot(xticks=range(temp_df.month.nunique()), legend=False)\n",
    "    ax.set_xticklabels(labels=temp_df[temp_df['year'] == i].groupby(['year', 'month']).sum().index, rotation=60)\n",
    "    ax.set_title(f'Sales Sum for {i}')\n",
    "    ax.set_xlabel('(Year, Month)')\n",
    "    ax.set_ylabel('Sales')"
   ]
  },
  {
   "cell_type": "code",
   "execution_count": 12,
   "metadata": {
    "execution": {
     "iopub.execute_input": "2021-03-17T07:12:26.190357Z",
     "iopub.status.busy": "2021-03-17T07:12:26.189401Z",
     "iopub.status.idle": "2021-03-17T07:12:26.380309Z",
     "shell.execute_reply": "2021-03-17T07:12:26.380808Z"
    },
    "papermill": {
     "duration": 0.248268,
     "end_time": "2021-03-17T07:12:26.381002",
     "exception": false,
     "start_time": "2021-03-17T07:12:26.132734",
     "status": "completed"
    },
    "tags": []
   },
   "outputs": [
    {
     "data": {
      "image/png": "[encoded data removed]",
      "text/plain": [
       "<Figure size 432x288 with 1 Axes>"
      ]
     },
     "metadata": {
      "needs_background": "light"
     },
     "output_type": "display_data"
    }
   ],
   "source": [
    "temp_df = df[['year', 'month', 'day', 'sales', 'store', 'item']]\n",
    "\n",
    "for i in temp_df.store.unique():\n",
    "    for j in temp_df.item.unique():\n",
    "        temp_df_si = temp_df[(temp_df['store'] == i) & (temp_df['item'] == j)]\n",
    "        ax = temp_df_si[['year', 'month', 'day', 'sales']].groupby(['year', 'month', 'day']).sum().plot(legend=False, rot=60)\n",
    "        ax.set_title(f'Sales Sum for store:{i}, item:{j}')\n",
    "        ax.set_xlabel('(Year, Month, Day)')\n",
    "        ax.set_ylabel('Sales')\n",
    "        break\n",
    "    break"
   ]
  },
  {
   "cell_type": "markdown",
   "metadata": {
    "papermill": {
     "duration": 0.032381,
     "end_time": "2021-03-17T07:12:26.446489",
     "exception": false,
     "start_time": "2021-03-17T07:12:26.414108",
     "status": "completed"
    },
    "tags": []
   },
   "source": [
    "## Baseline models\n",
    "\n",
    "Let X be 1 test example of (month, day, store, item)\n",
    "\n",
    "- If same month, same day, same store, same item, we predict using the average"
   ]
  },
  {
   "cell_type": "code",
   "execution_count": 13,
   "metadata": {
    "execution": {
     "iopub.execute_input": "2021-03-17T07:12:26.520594Z",
     "iopub.status.busy": "2021-03-17T07:12:26.519689Z",
     "iopub.status.idle": "2021-03-17T07:12:26.970484Z",
     "shell.execute_reply": "2021-03-17T07:12:26.969950Z"
    },
    "papermill": {
     "duration": 0.491656,
     "end_time": "2021-03-17T07:12:26.970635",
     "exception": false,
     "start_time": "2021-03-17T07:12:26.478979",
     "status": "completed"
    },
    "scrolled": false,
    "tags": []
   },
   "outputs": [
    {
     "data": {
      "text/html": [
       "<div>\n",
       "<style scoped>\n",
       "    .dataframe tbody tr th:only-of-type {\n",
       "        vertical-align: middle;\n",
       "    }\n",
       "\n",
       "    .dataframe tbody tr th {\n",
       "        vertical-align: top;\n",
       "    }\n",
       "\n",
       "    .dataframe thead th {\n",
       "        text-align: right;\n",
       "    }\n",
       "</style>\n",
       "<table border=\"1\" class=\"dataframe\">\n",
       "  <thead>\n",
       "    <tr style=\"text-align: right;\">\n",
       "      <th></th>\n",
       "      <th>date</th>\n",
       "      <th>id</th>\n",
       "      <th>store</th>\n",
       "      <th>item</th>\n",
       "      <th>day</th>\n",
       "      <th>month</th>\n",
       "      <th>year</th>\n",
       "      <th>weekday</th>\n",
       "    </tr>\n",
       "  </thead>\n",
       "  <tbody>\n",
       "    <tr>\n",
       "      <th>0</th>\n",
       "      <td>2018-01-01</td>\n",
       "      <td>0</td>\n",
       "      <td>1</td>\n",
       "      <td>1</td>\n",
       "      <td>1</td>\n",
       "      <td>1</td>\n",
       "      <td>2018</td>\n",
       "      <td>0</td>\n",
       "    </tr>\n",
       "    <tr>\n",
       "      <th>1</th>\n",
       "      <td>2018-01-02</td>\n",
       "      <td>1</td>\n",
       "      <td>1</td>\n",
       "      <td>1</td>\n",
       "      <td>2</td>\n",
       "      <td>1</td>\n",
       "      <td>2018</td>\n",
       "      <td>1</td>\n",
       "    </tr>\n",
       "    <tr>\n",
       "      <th>2</th>\n",
       "      <td>2018-01-03</td>\n",
       "      <td>2</td>\n",
       "      <td>1</td>\n",
       "      <td>1</td>\n",
       "      <td>3</td>\n",
       "      <td>1</td>\n",
       "      <td>2018</td>\n",
       "      <td>2</td>\n",
       "    </tr>\n",
       "    <tr>\n",
       "      <th>3</th>\n",
       "      <td>2018-01-04</td>\n",
       "      <td>3</td>\n",
       "      <td>1</td>\n",
       "      <td>1</td>\n",
       "      <td>4</td>\n",
       "      <td>1</td>\n",
       "      <td>2018</td>\n",
       "      <td>3</td>\n",
       "    </tr>\n",
       "    <tr>\n",
       "      <th>4</th>\n",
       "      <td>2018-01-05</td>\n",
       "      <td>4</td>\n",
       "      <td>1</td>\n",
       "      <td>1</td>\n",
       "      <td>5</td>\n",
       "      <td>1</td>\n",
       "      <td>2018</td>\n",
       "      <td>4</td>\n",
       "    </tr>\n",
       "    <tr>\n",
       "      <th>...</th>\n",
       "      <td>...</td>\n",
       "      <td>...</td>\n",
       "      <td>...</td>\n",
       "      <td>...</td>\n",
       "      <td>...</td>\n",
       "      <td>...</td>\n",
       "      <td>...</td>\n",
       "      <td>...</td>\n",
       "    </tr>\n",
       "    <tr>\n",
       "      <th>44995</th>\n",
       "      <td>2018-03-27</td>\n",
       "      <td>44995</td>\n",
       "      <td>10</td>\n",
       "      <td>50</td>\n",
       "      <td>27</td>\n",
       "      <td>3</td>\n",
       "      <td>2018</td>\n",
       "      <td>1</td>\n",
       "    </tr>\n",
       "    <tr>\n",
       "      <th>44996</th>\n",
       "      <td>2018-03-28</td>\n",
       "      <td>44996</td>\n",
       "      <td>10</td>\n",
       "      <td>50</td>\n",
       "      <td>28</td>\n",
       "      <td>3</td>\n",
       "      <td>2018</td>\n",
       "      <td>2</td>\n",
       "    </tr>\n",
       "    <tr>\n",
       "      <th>44997</th>\n",
       "      <td>2018-03-29</td>\n",
       "      <td>44997</td>\n",
       "      <td>10</td>\n",
       "      <td>50</td>\n",
       "      <td>29</td>\n",
       "      <td>3</td>\n",
       "      <td>2018</td>\n",
       "      <td>3</td>\n",
       "    </tr>\n",
       "    <tr>\n",
       "      <th>44998</th>\n",
       "      <td>2018-03-30</td>\n",
       "      <td>44998</td>\n",
       "      <td>10</td>\n",
       "      <td>50</td>\n",
       "      <td>30</td>\n",
       "      <td>3</td>\n",
       "      <td>2018</td>\n",
       "      <td>4</td>\n",
       "    </tr>\n",
       "    <tr>\n",
       "      <th>44999</th>\n",
       "      <td>2018-03-31</td>\n",
       "      <td>44999</td>\n",
       "      <td>10</td>\n",
       "      <td>50</td>\n",
       "      <td>31</td>\n",
       "      <td>3</td>\n",
       "      <td>2018</td>\n",
       "      <td>5</td>\n",
       "    </tr>\n",
       "  </tbody>\n",
       "</table>\n",
       "<p>45000 rows × 8 columns</p>\n",
       "</div>"
      ],
      "text/plain": [
       "             date     id  store  item  day  month  year  weekday\n",
       "0      2018-01-01      0      1     1    1      1  2018        0\n",
       "1      2018-01-02      1      1     1    2      1  2018        1\n",
       "2      2018-01-03      2      1     1    3      1  2018        2\n",
       "3      2018-01-04      3      1     1    4      1  2018        3\n",
       "4      2018-01-05      4      1     1    5      1  2018        4\n",
       "...           ...    ...    ...   ...  ...    ...   ...      ...\n",
       "44995  2018-03-27  44995     10    50   27      3  2018        1\n",
       "44996  2018-03-28  44996     10    50   28      3  2018        2\n",
       "44997  2018-03-29  44997     10    50   29      3  2018        3\n",
       "44998  2018-03-30  44998     10    50   30      3  2018        4\n",
       "44999  2018-03-31  44999     10    50   31      3  2018        5\n",
       "\n",
       "[45000 rows x 8 columns]"
      ]
     },
     "execution_count": 13,
     "metadata": {},
     "output_type": "execute_result"
    }
   ],
   "source": [
    "## Convert test.csv\n",
    "def add_features(df):\n",
    "    df[\"day\"] = df.index.day\n",
    "    df[\"month\"] = df.index.month\n",
    "    df[\"year\"] = df.index.year\n",
    "    \n",
    "    return df\n",
    "\n",
    "tdf = add_features(test_df.copy()).reset_index()\n",
    "tdf[\"date\"] = tdf['date'].apply(lambda x: x.date())\n",
    "tdf[\"date\"] = tdf['date'].apply(lambda x: str(x))\n",
    "tdf[\"weekday\"] = tdf['date'].apply(lambda x: calendar.weekday(int(x.split(\"-\")[0]), int(x.split(\"-\")[1]), int(x.split(\"-\")[2])))\n",
    "tdf"
   ]
  },
  {
   "cell_type": "code",
   "execution_count": 14,
   "metadata": {
    "execution": {
     "iopub.execute_input": "2021-03-17T07:12:27.042740Z",
     "iopub.status.busy": "2021-03-17T07:12:27.042025Z",
     "iopub.status.idle": "2021-03-17T07:12:27.100555Z",
     "shell.execute_reply": "2021-03-17T07:12:27.099777Z"
    },
    "papermill": {
     "duration": 0.097206,
     "end_time": "2021-03-17T07:12:27.100722",
     "exception": false,
     "start_time": "2021-03-17T07:12:27.003516",
     "status": "completed"
    },
    "tags": []
   },
   "outputs": [],
   "source": [
    "## Drop columns\n",
    "df_1 = df.copy().drop(columns= [\"date\",\"year\",\"weekday\"])\n",
    "df_2 = tdf.copy().drop(columns=[\"date\",\"year\",\"weekday\"])"
   ]
  },
  {
   "cell_type": "code",
   "execution_count": 15,
   "metadata": {
    "execution": {
     "iopub.execute_input": "2021-03-17T07:12:27.178150Z",
     "iopub.status.busy": "2021-03-17T07:12:27.177448Z",
     "iopub.status.idle": "2021-03-17T07:12:27.383992Z",
     "shell.execute_reply": "2021-03-17T07:12:27.383438Z"
    },
    "papermill": {
     "duration": 0.250255,
     "end_time": "2021-03-17T07:12:27.384132",
     "exception": false,
     "start_time": "2021-03-17T07:12:27.133877",
     "status": "completed"
    },
    "tags": []
   },
   "outputs": [
    {
     "data": {
      "text/html": [
       "<div>\n",
       "<style scoped>\n",
       "    .dataframe tbody tr th:only-of-type {\n",
       "        vertical-align: middle;\n",
       "    }\n",
       "\n",
       "    .dataframe tbody tr th {\n",
       "        vertical-align: top;\n",
       "    }\n",
       "\n",
       "    .dataframe thead th {\n",
       "        text-align: right;\n",
       "    }\n",
       "</style>\n",
       "<table border=\"1\" class=\"dataframe\">\n",
       "  <thead>\n",
       "    <tr style=\"text-align: right;\">\n",
       "      <th></th>\n",
       "      <th>id</th>\n",
       "      <th>store</th>\n",
       "      <th>item</th>\n",
       "      <th>day</th>\n",
       "      <th>month</th>\n",
       "      <th>predict_sales</th>\n",
       "    </tr>\n",
       "  </thead>\n",
       "  <tbody>\n",
       "    <tr>\n",
       "      <th>0</th>\n",
       "      <td>0</td>\n",
       "      <td>1</td>\n",
       "      <td>1</td>\n",
       "      <td>1</td>\n",
       "      <td>1</td>\n",
       "      <td>14.6</td>\n",
       "    </tr>\n",
       "    <tr>\n",
       "      <th>1</th>\n",
       "      <td>1</td>\n",
       "      <td>1</td>\n",
       "      <td>1</td>\n",
       "      <td>2</td>\n",
       "      <td>1</td>\n",
       "      <td>14.4</td>\n",
       "    </tr>\n",
       "    <tr>\n",
       "      <th>2</th>\n",
       "      <td>2</td>\n",
       "      <td>1</td>\n",
       "      <td>1</td>\n",
       "      <td>3</td>\n",
       "      <td>1</td>\n",
       "      <td>12.6</td>\n",
       "    </tr>\n",
       "    <tr>\n",
       "      <th>3</th>\n",
       "      <td>3</td>\n",
       "      <td>1</td>\n",
       "      <td>1</td>\n",
       "      <td>4</td>\n",
       "      <td>1</td>\n",
       "      <td>15.0</td>\n",
       "    </tr>\n",
       "    <tr>\n",
       "      <th>4</th>\n",
       "      <td>4</td>\n",
       "      <td>1</td>\n",
       "      <td>1</td>\n",
       "      <td>5</td>\n",
       "      <td>1</td>\n",
       "      <td>13.4</td>\n",
       "    </tr>\n",
       "    <tr>\n",
       "      <th>...</th>\n",
       "      <td>...</td>\n",
       "      <td>...</td>\n",
       "      <td>...</td>\n",
       "      <td>...</td>\n",
       "      <td>...</td>\n",
       "      <td>...</td>\n",
       "    </tr>\n",
       "    <tr>\n",
       "      <th>44995</th>\n",
       "      <td>44995</td>\n",
       "      <td>10</td>\n",
       "      <td>50</td>\n",
       "      <td>27</td>\n",
       "      <td>3</td>\n",
       "      <td>69.8</td>\n",
       "    </tr>\n",
       "    <tr>\n",
       "      <th>44996</th>\n",
       "      <td>44996</td>\n",
       "      <td>10</td>\n",
       "      <td>50</td>\n",
       "      <td>28</td>\n",
       "      <td>3</td>\n",
       "      <td>61.2</td>\n",
       "    </tr>\n",
       "    <tr>\n",
       "      <th>44997</th>\n",
       "      <td>44997</td>\n",
       "      <td>10</td>\n",
       "      <td>50</td>\n",
       "      <td>29</td>\n",
       "      <td>3</td>\n",
       "      <td>72.6</td>\n",
       "    </tr>\n",
       "    <tr>\n",
       "      <th>44998</th>\n",
       "      <td>44998</td>\n",
       "      <td>10</td>\n",
       "      <td>50</td>\n",
       "      <td>30</td>\n",
       "      <td>3</td>\n",
       "      <td>67.8</td>\n",
       "    </tr>\n",
       "    <tr>\n",
       "      <th>44999</th>\n",
       "      <td>44999</td>\n",
       "      <td>10</td>\n",
       "      <td>50</td>\n",
       "      <td>31</td>\n",
       "      <td>3</td>\n",
       "      <td>66.2</td>\n",
       "    </tr>\n",
       "  </tbody>\n",
       "</table>\n",
       "<p>45000 rows × 6 columns</p>\n",
       "</div>"
      ],
      "text/plain": [
       "          id  store  item  day  month  predict_sales\n",
       "0          0      1     1    1      1           14.6\n",
       "1          1      1     1    2      1           14.4\n",
       "2          2      1     1    3      1           12.6\n",
       "3          3      1     1    4      1           15.0\n",
       "4          4      1     1    5      1           13.4\n",
       "...      ...    ...   ...  ...    ...            ...\n",
       "44995  44995     10    50   27      3           69.8\n",
       "44996  44996     10    50   28      3           61.2\n",
       "44997  44997     10    50   29      3           72.6\n",
       "44998  44998     10    50   30      3           67.8\n",
       "44999  44999     10    50   31      3           66.2\n",
       "\n",
       "[45000 rows x 6 columns]"
      ]
     },
     "execution_count": 15,
     "metadata": {},
     "output_type": "execute_result"
    }
   ],
   "source": [
    "## Generate Predict Values\n",
    "df_1 = df_1.groupby([\"store\", \"item\",\"day\",\"month\"]).mean().rename(columns={\"sales\": \"predict_sales\"}).reset_index()\n",
    "result = df_2.merge(df_1, how='left', on=[\"store\", \"item\",\"day\",\"month\"])\n",
    "result"
   ]
  },
  {
   "cell_type": "code",
   "execution_count": 16,
   "metadata": {
    "execution": {
     "iopub.execute_input": "2021-03-17T07:12:27.458664Z",
     "iopub.status.busy": "2021-03-17T07:12:27.457987Z",
     "iopub.status.idle": "2021-03-17T07:12:27.462049Z",
     "shell.execute_reply": "2021-03-17T07:12:27.461423Z"
    },
    "papermill": {
     "duration": 0.044569,
     "end_time": "2021-03-17T07:12:27.462196",
     "exception": false,
     "start_time": "2021-03-17T07:12:27.417627",
     "status": "completed"
    },
    "tags": []
   },
   "outputs": [],
   "source": [
    "result = result.drop(columns=[\"store\", \"item\",\"day\",\"month\"])\n",
    "result = result.rename(columns={\"predict_sales\": \"sales\"})"
   ]
  },
  {
   "cell_type": "code",
   "execution_count": 17,
   "metadata": {
    "execution": {
     "iopub.execute_input": "2021-03-17T07:12:27.539382Z",
     "iopub.status.busy": "2021-03-17T07:12:27.538705Z",
     "iopub.status.idle": "2021-03-17T07:12:27.543345Z",
     "shell.execute_reply": "2021-03-17T07:12:27.542770Z"
    },
    "papermill": {
     "duration": 0.047347,
     "end_time": "2021-03-17T07:12:27.543488",
     "exception": false,
     "start_time": "2021-03-17T07:12:27.496141",
     "status": "completed"
    },
    "tags": []
   },
   "outputs": [
    {
     "data": {
      "text/html": [
       "<div>\n",
       "<style scoped>\n",
       "    .dataframe tbody tr th:only-of-type {\n",
       "        vertical-align: middle;\n",
       "    }\n",
       "\n",
       "    .dataframe tbody tr th {\n",
       "        vertical-align: top;\n",
       "    }\n",
       "\n",
       "    .dataframe thead th {\n",
       "        text-align: right;\n",
       "    }\n",
       "</style>\n",
       "<table border=\"1\" class=\"dataframe\">\n",
       "  <thead>\n",
       "    <tr style=\"text-align: right;\">\n",
       "      <th></th>\n",
       "      <th>id</th>\n",
       "      <th>sales</th>\n",
       "    </tr>\n",
       "  </thead>\n",
       "  <tbody>\n",
       "    <tr>\n",
       "      <th>0</th>\n",
       "      <td>0</td>\n",
       "      <td>14.6</td>\n",
       "    </tr>\n",
       "    <tr>\n",
       "      <th>1</th>\n",
       "      <td>1</td>\n",
       "      <td>14.4</td>\n",
       "    </tr>\n",
       "    <tr>\n",
       "      <th>2</th>\n",
       "      <td>2</td>\n",
       "      <td>12.6</td>\n",
       "    </tr>\n",
       "    <tr>\n",
       "      <th>3</th>\n",
       "      <td>3</td>\n",
       "      <td>15.0</td>\n",
       "    </tr>\n",
       "    <tr>\n",
       "      <th>4</th>\n",
       "      <td>4</td>\n",
       "      <td>13.4</td>\n",
       "    </tr>\n",
       "  </tbody>\n",
       "</table>\n",
       "</div>"
      ],
      "text/plain": [
       "   id  sales\n",
       "0   0   14.6\n",
       "1   1   14.4\n",
       "2   2   12.6\n",
       "3   3   15.0\n",
       "4   4   13.4"
      ]
     },
     "execution_count": 17,
     "metadata": {},
     "output_type": "execute_result"
    }
   ],
   "source": [
    "result.head()"
   ]
  },
  {
   "cell_type": "code",
   "execution_count": 18,
   "metadata": {
    "execution": {
     "iopub.execute_input": "2021-03-17T07:12:27.616863Z",
     "iopub.status.busy": "2021-03-17T07:12:27.616197Z",
     "iopub.status.idle": "2021-03-17T07:12:27.739238Z",
     "shell.execute_reply": "2021-03-17T07:12:27.738665Z"
    },
    "papermill": {
     "duration": 0.161655,
     "end_time": "2021-03-17T07:12:27.739402",
     "exception": false,
     "start_time": "2021-03-17T07:12:27.577747",
     "status": "completed"
    },
    "tags": []
   },
   "outputs": [],
   "source": [
    "result.to_csv(\"./average_predictor.csv\", index=False)"
   ]
  },
  {
   "cell_type": "markdown",
   "metadata": {
    "papermill": {
     "duration": 0.034264,
     "end_time": "2021-03-17T07:12:27.809093",
     "exception": false,
     "start_time": "2021-03-17T07:12:27.774829",
     "status": "completed"
    },
    "tags": []
   },
   "source": [
    "Seasonal Autoregressive Integrated Moving-Average (SARIMA)"
   ]
  },
  {
   "cell_type": "code",
   "execution_count": 19,
   "metadata": {
    "execution": {
     "iopub.execute_input": "2021-03-17T07:12:27.883704Z",
     "iopub.status.busy": "2021-03-17T07:12:27.882957Z",
     "iopub.status.idle": "2021-03-17T07:12:28.185547Z",
     "shell.execute_reply": "2021-03-17T07:12:28.184809Z"
    },
    "papermill": {
     "duration": 0.341988,
     "end_time": "2021-03-17T07:12:28.185709",
     "exception": false,
     "start_time": "2021-03-17T07:12:27.843721",
     "status": "completed"
    },
    "tags": []
   },
   "outputs": [],
   "source": [
    "from statsmodels.tsa.statespace.sarimax import SARIMAX\n",
    "\n",
    "df1 = df2 = df.copy().drop(columns=[\"day\", \"month\", \"year\", \"weekday\"])"
   ]
  },
  {
   "cell_type": "code",
   "execution_count": 20,
   "metadata": {
    "execution": {
     "iopub.execute_input": "2021-03-17T07:12:28.269350Z",
     "iopub.status.busy": "2021-03-17T07:12:28.268236Z",
     "iopub.status.idle": "2021-03-17T07:21:11.777621Z",
     "shell.execute_reply": "2021-03-17T07:21:11.778093Z"
    },
    "papermill": {
     "duration": 523.557277,
     "end_time": "2021-03-17T07:21:11.778318",
     "exception": false,
     "start_time": "2021-03-17T07:12:28.221041",
     "status": "completed"
    },
    "scrolled": true,
    "tags": []
   },
   "outputs": [
    {
     "data": {
      "application/vnd.jupyter.widget-view+json": {
       "model_id": "b5977f4deafb49a4b4f2e1fade7bf10d",
       "version_major": 2,
       "version_minor": 0
      },
      "text/plain": [
       "  0%|          | 0/500 [00:00<?, ?it/s]"
      ]
     },
     "metadata": {},
     "output_type": "display_data"
    }
   ],
   "source": [
    "from itertools import product\n",
    "from tqdm.notebook import tqdm\n",
    "from statsmodels.tsa.stattools import acf, pacf\n",
    "import statsmodels.api as sm\n",
    "import numpy as np\n",
    "\n",
    "horizon = 90\n",
    "\n",
    "def predict_SARIMAX(data, start, end):\n",
    "    model = SARIMAX(data, order=(6, 1, 0), seasonal_order=(1, 0, 0, 7), enforce_stationarity=False, enforce_invertibility=False)\n",
    "    model_fit = model.fit(disp=False)\n",
    "    yhat = model_fit.predict(start, end)\n",
    "    return yhat\n",
    "\n",
    "pred_values = []\n",
    "c = 0\n",
    "\n",
    "for item, store in tqdm(list(product(range(1, 51), range(1, 11)))):\n",
    "    q = \"store == {} and item == {}\".format(store, item)\n",
    "    sales = df1.query(q)[\"sales\"].reset_index(drop=True)\n",
    "    sales_diff = sales.diff(periods=1).values[1:]\n",
    "    max_sale_diff = max(sales_diff)\n",
    "        \n",
    "    start_datapt = 1\n",
    "    end_datapt = len(sales) + horizon\n",
    "    pred_values.extend(predict_SARIMAX(sales, start_datapt, end_datapt)[-horizon:])\n",
    "\n",
    "#     if(sales == None):\n",
    "#         print(store, item)\n",
    "#         break\n",
    "    \n",
    "#     if store == 1 and item == 1:\n",
    "#         fig = plt.figure(figsize=(12,8))\n",
    "#         ax1 = fig.add_subplot(211)\n",
    "#         fig = sm.graphics.tsa.plot_acf(sales.values.squeeze(), lags=40, ax=ax1)\n",
    "#         ax2 = fig.add_subplot(212)\n",
    "#         fig = sm.graphics.tsa.plot_pacf(sales, lags=40, ax=ax2)\n",
    "\n",
    "        \n",
    "#         lag_acf = acf(sales_diff, nlags=40)\n",
    "#         lag_pacf = pacf(sales_diff, nlags=40, method=\"ols\")\n",
    "#         plt.figure(figsize = (15,5))\n",
    "#         plt.subplot(121)\n",
    "#         plt.stem(lag_acf)\n",
    "#         plt.axhline(y=0, linestyle=\"-\", color='black')\n",
    "#         plt.axhline(y=-1.96/np.sqrt(len(sales)), linestyle=\"--\", color='grey')\n",
    "#         plt.axhline(y=1.96/np.sqrt(len(sales)), linestyle=\"--\", color='grey')\n",
    "#         plt.xlabel(\"Lag\")\n",
    "#         plt.ylabel(\"ACF\")\n",
    "#         plt.plot(sales_diff)\n",
    "#         plt.xlabel(\"Days\")\n",
    "#         plt.ylabel(\"Sales\")\n",
    "#         plt.subplot(122)\n",
    "#         plt.stem(lag_pacf)\n",
    "#         plt.axhline(y=0, linestyle=\"-\", color='black')\n",
    "#         plt.axhline(y=-1.96/np.sqrt(len(sales)), linestyle=\"--\", color='grey')\n",
    "#         plt.axhline(y=1.96/np.sqrt(len(sales)), linestyle=\"--\", color='grey')\n",
    "#         plt.xlabel(\"Lag\")\n",
    "#         plt.ylabel(\"PACF\")\n",
    "\n",
    "#         plt.plot(sales, label='sales')\n",
    "#         plt.plot(pred_values, label='SARIMA Prediction')\n",
    "#         plt.title(f'Sales for store:{store}, item:{item}')\n",
    "#         plt.ylabel('Sales Quantity')\n",
    "#         break\n",
    "\n",
    "result = pd.DataFrame({\"sales\": pred_values})"
   ]
  },
  {
   "cell_type": "code",
   "execution_count": 21,
   "metadata": {
    "execution": {
     "iopub.execute_input": "2021-03-17T07:21:11.883924Z",
     "iopub.status.busy": "2021-03-17T07:21:11.883224Z",
     "iopub.status.idle": "2021-03-17T07:21:11.887507Z",
     "shell.execute_reply": "2021-03-17T07:21:11.888044Z"
    },
    "papermill": {
     "duration": 0.073672,
     "end_time": "2021-03-17T07:21:11.888233",
     "exception": false,
     "start_time": "2021-03-17T07:21:11.814561",
     "status": "completed"
    },
    "tags": []
   },
   "outputs": [
    {
     "data": {
      "text/html": [
       "<div>\n",
       "<style scoped>\n",
       "    .dataframe tbody tr th:only-of-type {\n",
       "        vertical-align: middle;\n",
       "    }\n",
       "\n",
       "    .dataframe tbody tr th {\n",
       "        vertical-align: top;\n",
       "    }\n",
       "\n",
       "    .dataframe thead th {\n",
       "        text-align: right;\n",
       "    }\n",
       "</style>\n",
       "<table border=\"1\" class=\"dataframe\">\n",
       "  <thead>\n",
       "    <tr style=\"text-align: right;\">\n",
       "      <th></th>\n",
       "      <th>sales</th>\n",
       "      <th>id</th>\n",
       "    </tr>\n",
       "  </thead>\n",
       "  <tbody>\n",
       "    <tr>\n",
       "      <th>0</th>\n",
       "      <td>14.146404</td>\n",
       "      <td>0</td>\n",
       "    </tr>\n",
       "    <tr>\n",
       "      <th>1</th>\n",
       "      <td>15.771629</td>\n",
       "      <td>1</td>\n",
       "    </tr>\n",
       "    <tr>\n",
       "      <th>2</th>\n",
       "      <td>16.009725</td>\n",
       "      <td>2</td>\n",
       "    </tr>\n",
       "    <tr>\n",
       "      <th>3</th>\n",
       "      <td>14.667606</td>\n",
       "      <td>3</td>\n",
       "    </tr>\n",
       "    <tr>\n",
       "      <th>4</th>\n",
       "      <td>19.904318</td>\n",
       "      <td>4</td>\n",
       "    </tr>\n",
       "  </tbody>\n",
       "</table>\n",
       "</div>"
      ],
      "text/plain": [
       "       sales  id\n",
       "0  14.146404   0\n",
       "1  15.771629   1\n",
       "2  16.009725   2\n",
       "3  14.667606   3\n",
       "4  19.904318   4"
      ]
     },
     "execution_count": 21,
     "metadata": {},
     "output_type": "execute_result"
    }
   ],
   "source": [
    "result['id'] = [i for i in range(45000)]\n",
    "result.head()"
   ]
  },
  {
   "cell_type": "code",
   "execution_count": 22,
   "metadata": {
    "execution": {
     "iopub.execute_input": "2021-03-17T07:21:11.972681Z",
     "iopub.status.busy": "2021-03-17T07:21:11.971763Z",
     "iopub.status.idle": "2021-03-17T07:21:11.976604Z",
     "shell.execute_reply": "2021-03-17T07:21:11.975967Z"
    },
    "papermill": {
     "duration": 0.051742,
     "end_time": "2021-03-17T07:21:11.976747",
     "exception": false,
     "start_time": "2021-03-17T07:21:11.925005",
     "status": "completed"
    },
    "tags": []
   },
   "outputs": [
    {
     "data": {
      "text/html": [
       "<div>\n",
       "<style scoped>\n",
       "    .dataframe tbody tr th:only-of-type {\n",
       "        vertical-align: middle;\n",
       "    }\n",
       "\n",
       "    .dataframe tbody tr th {\n",
       "        vertical-align: top;\n",
       "    }\n",
       "\n",
       "    .dataframe thead th {\n",
       "        text-align: right;\n",
       "    }\n",
       "</style>\n",
       "<table border=\"1\" class=\"dataframe\">\n",
       "  <thead>\n",
       "    <tr style=\"text-align: right;\">\n",
       "      <th></th>\n",
       "      <th>id</th>\n",
       "      <th>sales</th>\n",
       "    </tr>\n",
       "  </thead>\n",
       "  <tbody>\n",
       "    <tr>\n",
       "      <th>0</th>\n",
       "      <td>0</td>\n",
       "      <td>14.146404</td>\n",
       "    </tr>\n",
       "    <tr>\n",
       "      <th>1</th>\n",
       "      <td>1</td>\n",
       "      <td>15.771629</td>\n",
       "    </tr>\n",
       "    <tr>\n",
       "      <th>2</th>\n",
       "      <td>2</td>\n",
       "      <td>16.009725</td>\n",
       "    </tr>\n",
       "    <tr>\n",
       "      <th>3</th>\n",
       "      <td>3</td>\n",
       "      <td>14.667606</td>\n",
       "    </tr>\n",
       "    <tr>\n",
       "      <th>4</th>\n",
       "      <td>4</td>\n",
       "      <td>19.904318</td>\n",
       "    </tr>\n",
       "  </tbody>\n",
       "</table>\n",
       "</div>"
      ],
      "text/plain": [
       "   id      sales\n",
       "0   0  14.146404\n",
       "1   1  15.771629\n",
       "2   2  16.009725\n",
       "3   3  14.667606\n",
       "4   4  19.904318"
      ]
     },
     "execution_count": 22,
     "metadata": {},
     "output_type": "execute_result"
    }
   ],
   "source": [
    "result = result.reindex(columns=['id', 'sales'])\n",
    "result.head()"
   ]
  },
  {
   "cell_type": "code",
   "execution_count": 23,
   "metadata": {
    "execution": {
     "iopub.execute_input": "2021-03-17T07:21:12.057240Z",
     "iopub.status.busy": "2021-03-17T07:21:12.054856Z",
     "iopub.status.idle": "2021-03-17T07:21:12.223861Z",
     "shell.execute_reply": "2021-03-17T07:21:12.222982Z"
    },
    "papermill": {
     "duration": 0.211135,
     "end_time": "2021-03-17T07:21:12.224033",
     "exception": false,
     "start_time": "2021-03-17T07:21:12.012898",
     "status": "completed"
    },
    "scrolled": true,
    "tags": []
   },
   "outputs": [],
   "source": [
    "result.to_csv(\"./submission.csv\", index=False)"
   ]
  }
 ],
 "metadata": {
  "kernelspec": {
   "display_name": "Python 3",
   "language": "python",
   "name": "python3"
  },
  "language_info": {
   "codemirror_mode": {
    "name": "ipython",
    "version": 3
   },
   "file_extension": ".py",
   "mimetype": "text/x-python",
   "name": "python",
   "nbconvert_exporter": "python",
   "pygments_lexer": "ipython3",
   "version": "3.7.9"
  },
  "papermill": {
   "default_parameters": {},
   "duration": 548.387341,
   "end_time": "2021-03-17T07:21:13.075379",
   "environment_variables": {},
   "exception": null,
   "input_path": "__notebook__.ipynb",
   "output_path": "__notebook__.ipynb",
   "parameters": {},
   "start_time": "2021-03-17T07:12:04.688038",
   "version": "2.2.2"
  },
  "widgets": {
   "application/vnd.jupyter.widget-state+json": {
    "state": {
     "131e7a448e514db9a4c55a4bfd83f649": {
      "model_module": "@jupyter-widgets/base",
      "model_module_version": "1.2.0",
      "model_name": "LayoutModel",
      "state": {
       "_model_module": "@jupyter-widgets/base",
       "_model_module_version": "1.2.0",
       "_model_name": "LayoutModel",
       "_view_count": null,
       "_view_module": "@jupyter-widgets/base",
       "_view_module_version": "1.2.0",
       "_view_name": "LayoutView",
       "align_content": null,
       "align_items": null,
       "align_self": null,
       "border": null,
       "bottom": null,
       "display": null,
       "flex": null,
       "flex_flow": null,
       "grid_area": null,
       "grid_auto_columns": null,
       "grid_auto_flow": null,
       "grid_auto_rows": null,
       "grid_column": null,
       "grid_gap": null,
       "grid_row": null,
       "grid_template_areas": null,
       "grid_template_columns": null,
       "grid_template_rows": null,
       "height": null,
       "justify_content": null,
       "justify_items": null,
       "left": null,
       "margin": null,
       "max_height": null,
       "max_width": null,
       "min_height": null,
       "min_width": null,
       "object_fit": null,
       "object_position": null,
       "order": null,
       "overflow": null,
       "overflow_x": null,
       "overflow_y": null,
       "padding": null,
       "right": null,
       "top": null,
       "visibility": null,
       "width": null
      }
     },
     "28e050c4262b4f869d4e6d3774d4c84d": {
      "model_module": "@jupyter-widgets/base",
      "model_module_version": "1.2.0",
      "model_name": "LayoutModel",
      "state": {
       "_model_module": "@jupyter-widgets/base",
       "_model_module_version": "1.2.0",
       "_model_name": "LayoutModel",
       "_view_count": null,
       "_view_module": "@jupyter-widgets/base",
       "_view_module_version": "1.2.0",
       "_view_name": "LayoutView",
       "align_content": null,
       "align_items": null,
       "align_self": null,
       "border": null,
       "bottom": null,
       "display": null,
       "flex": null,
       "flex_flow": null,
       "grid_area": null,
       "grid_auto_columns": null,
       "grid_auto_flow": null,
       "grid_auto_rows": null,
       "grid_column": null,
       "grid_gap": null,
       "grid_row": null,
       "grid_template_areas": null,
       "grid_template_columns": null,
       "grid_template_rows": null,
       "height": null,
       "justify_content": null,
       "justify_items": null,
       "left": null,
       "margin": null,
       "max_height": null,
       "max_width": null,
       "min_height": null,
       "min_width": null,
       "object_fit": null,
       "object_position": null,
       "order": null,
       "overflow": null,
       "overflow_x": null,
       "overflow_y": null,
       "padding": null,
       "right": null,
       "top": null,
       "visibility": null,
       "width": null
      }
     },
     "66e1afd13fc94fc997e85582d343862a": {
      "model_module": "@jupyter-widgets/controls",
      "model_module_version": "1.5.0",
      "model_name": "FloatProgressModel",
      "state": {
       "_dom_classes": [],
       "_model_module": "@jupyter-widgets/controls",
       "_model_module_version": "1.5.0",
       "_model_name": "FloatProgressModel",
       "_view_count": null,
       "_view_module": "@jupyter-widgets/controls",
       "_view_module_version": "1.5.0",
       "_view_name": "ProgressView",
       "bar_style": "success",
       "description": "",
       "description_tooltip": null,
       "layout": "IPY_MODEL_7082d7e58e6441b7be0c0d460a586fb8",
       "max": 500.0,
       "min": 0.0,
       "orientation": "horizontal",
       "style": "IPY_MODEL_9aeea9d081ae4e508f868ac85fd5603e",
       "value": 500.0
      }
     },
     "7082d7e58e6441b7be0c0d460a586fb8": {
      "model_module": "@jupyter-widgets/base",
      "model_module_version": "1.2.0",
      "model_name": "LayoutModel",
      "state": {
       "_model_module": "@jupyter-widgets/base",
       "_model_module_version": "1.2.0",
       "_model_name": "LayoutModel",
       "_view_count": null,
       "_view_module": "@jupyter-widgets/base",
       "_view_module_version": "1.2.0",
       "_view_name": "LayoutView",
       "align_content": null,
       "align_items": null,
       "align_self": null,
       "border": null,
       "bottom": null,
       "display": null,
       "flex": null,
       "flex_flow": null,
       "grid_area": null,
       "grid_auto_columns": null,
       "grid_auto_flow": null,
       "grid_auto_rows": null,
       "grid_column": null,
       "grid_gap": null,
       "grid_row": null,
       "grid_template_areas": null,
       "grid_template_columns": null,
       "grid_template_rows": null,
       "height": null,
       "justify_content": null,
       "justify_items": null,
       "left": null,
       "margin": null,
       "max_height": null,
       "max_width": null,
       "min_height": null,
       "min_width": null,
       "object_fit": null,
       "object_position": null,
       "order": null,
       "overflow": null,
       "overflow_x": null,
       "overflow_y": null,
       "padding": null,
       "right": null,
       "top": null,
       "visibility": null,
       "width": null
      }
     },
     "822ececc1e4c4857bf3b674797df0a27": {
      "model_module": "@jupyter-widgets/controls",
      "model_module_version": "1.5.0",
      "model_name": "HTMLModel",
      "state": {
       "_dom_classes": [],
       "_model_module": "@jupyter-widgets/controls",
       "_model_module_version": "1.5.0",
       "_model_name": "HTMLModel",
       "_view_count": null,
       "_view_module": "@jupyter-widgets/controls",
       "_view_module_version": "1.5.0",
       "_view_name": "HTMLView",
       "description": "",
       "description_tooltip": null,
       "layout": "IPY_MODEL_131e7a448e514db9a4c55a4bfd83f649",
       "placeholder": "​",
       "style": "IPY_MODEL_9f6e8ae8d25e410490441633969a69b3",
       "value": "100%"
      }
     },
     "9aeea9d081ae4e508f868ac85fd5603e": {
      "model_module": "@jupyter-widgets/controls",
      "model_module_version": "1.5.0",
      "model_name": "ProgressStyleModel",
      "state": {
       "_model_module": "@jupyter-widgets/controls",
       "_model_module_version": "1.5.0",
       "_model_name": "ProgressStyleModel",
       "_view_count": null,
       "_view_module": "@jupyter-widgets/base",
       "_view_module_version": "1.2.0",
       "_view_name": "StyleView",
       "bar_color": null,
       "description_width": ""
      }
     },
     "9f6e8ae8d25e410490441633969a69b3": {
      "model_module": "@jupyter-widgets/controls",
      "model_module_version": "1.5.0",
      "model_name": "DescriptionStyleModel",
      "state": {
       "_model_module": "@jupyter-widgets/controls",
       "_model_module_version": "1.5.0",
       "_model_name": "DescriptionStyleModel",
       "_view_count": null,
       "_view_module": "@jupyter-widgets/base",
       "_view_module_version": "1.2.0",
       "_view_name": "StyleView",
       "description_width": ""
      }
     },
     "a7b30a605dd745588c59e38b3462a044": {
      "model_module": "@jupyter-widgets/controls",
      "model_module_version": "1.5.0",
      "model_name": "DescriptionStyleModel",
      "state": {
       "_model_module": "@jupyter-widgets/controls",
       "_model_module_version": "1.5.0",
       "_model_name": "DescriptionStyleModel",
       "_view_count": null,
       "_view_module": "@jupyter-widgets/base",
       "_view_module_version": "1.2.0",
       "_view_name": "StyleView",
       "description_width": ""
      }
     },
     "ad9425e5aa1443d0a98e63eb70ab11fd": {
      "model_module": "@jupyter-widgets/base",
      "model_module_version": "1.2.0",
      "model_name": "LayoutModel",
      "state": {
       "_model_module": "@jupyter-widgets/base",
       "_model_module_version": "1.2.0",
       "_model_name": "LayoutModel",
       "_view_count": null,
       "_view_module": "@jupyter-widgets/base",
       "_view_module_version": "1.2.0",
       "_view_name": "LayoutView",
       "align_content": null,
       "align_items": null,
       "align_self": null,
       "border": null,
       "bottom": null,
       "display": null,
       "flex": null,
       "flex_flow": null,
       "grid_area": null,
       "grid_auto_columns": null,
       "grid_auto_flow": null,
       "grid_auto_rows": null,
       "grid_column": null,
       "grid_gap": null,
       "grid_row": null,
       "grid_template_areas": null,
       "grid_template_columns": null,
       "grid_template_rows": null,
       "height": null,
       "justify_content": null,
       "justify_items": null,
       "left": null,
       "margin": null,
       "max_height": null,
       "max_width": null,
       "min_height": null,
       "min_width": null,
       "object_fit": null,
       "object_position": null,
       "order": null,
       "overflow": null,
       "overflow_x": null,
       "overflow_y": null,
       "padding": null,
       "right": null,
       "top": null,
       "visibility": null,
       "width": null
      }
     },
     "b5977f4deafb49a4b4f2e1fade7bf10d": {
      "model_module": "@jupyter-widgets/controls",
      "model_module_version": "1.5.0",
      "model_name": "HBoxModel",
      "state": {
       "_dom_classes": [],
       "_model_module": "@jupyter-widgets/controls",
       "_model_module_version": "1.5.0",
       "_model_name": "HBoxModel",
       "_view_count": null,
       "_view_module": "@jupyter-widgets/controls",
       "_view_module_version": "1.5.0",
       "_view_name": "HBoxView",
       "box_style": "",
       "children": [
        "IPY_MODEL_822ececc1e4c4857bf3b674797df0a27",
        "IPY_MODEL_66e1afd13fc94fc997e85582d343862a",
        "IPY_MODEL_c69533fa763c4b6b99bc151ad6b4549a"
       ],
       "layout": "IPY_MODEL_28e050c4262b4f869d4e6d3774d4c84d"
      }
     },
     "c69533fa763c4b6b99bc151ad6b4549a": {
      "model_module": "@jupyter-widgets/controls",
      "model_module_version": "1.5.0",
      "model_name": "HTMLModel",
      "state": {
       "_dom_classes": [],
       "_model_module": "@jupyter-widgets/controls",
       "_model_module_version": "1.5.0",
       "_model_name": "HTMLModel",
       "_view_count": null,
       "_view_module": "@jupyter-widgets/controls",
       "_view_module_version": "1.5.0",
       "_view_name": "HTMLView",
       "description": "",
       "description_tooltip": null,
       "layout": "IPY_MODEL_ad9425e5aa1443d0a98e63eb70ab11fd",
       "placeholder": "​",
       "style": "IPY_MODEL_a7b30a605dd745588c59e38b3462a044",
       "value": " 500/500 [08:42&lt;00:00,  1.19s/it]"
      }
     }
    },
    "version_major": 2,
    "version_minor": 0
   }
  }
 },
 "nbformat": 4,
 "nbformat_minor": 4
}
